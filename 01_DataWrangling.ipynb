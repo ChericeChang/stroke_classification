{
 "cells": [
  {
   "cell_type": "markdown",
   "id": "alternative-scotland",
   "metadata": {},
   "source": [
    "# Stoke Prediction Dataset \n",
    "\n",
    "Data source: https://www.kaggle.com/fedesoriano/stroke-prediction-dataset <br>\n",
    "Data updated date: 2021-01-26"
   ]
  },
  {
   "cell_type": "code",
   "execution_count": 1,
   "id": "atmospheric-track",
   "metadata": {},
   "outputs": [],
   "source": [
    "# import libraries needed\n",
    "\n",
    "import pandas as pd\n",
    "import numpy as np\n",
    "import matplotlib.pyplot as plt\n",
    "import seaborn as sns"
   ]
  },
  {
   "cell_type": "code",
   "execution_count": 2,
   "id": "careful-termination",
   "metadata": {},
   "outputs": [
    {
     "data": {
      "text/html": [
       "<style>.container { width:100% !important; }</style>"
      ],
      "text/plain": [
       "<IPython.core.display.HTML object>"
      ]
     },
     "metadata": {},
     "output_type": "display_data"
    }
   ],
   "source": [
    "# make notebook full width for better viewing\n",
    "\n",
    "from IPython.core.display import display, HTML\n",
    "display(HTML(\"<style>.container { width:100% !important; }</style>\"))"
   ]
  },
  {
   "cell_type": "markdown",
   "id": "built-ballot",
   "metadata": {},
   "source": [
    "## 1.1 Loading the dataset"
   ]
  },
  {
   "cell_type": "code",
   "execution_count": 3,
   "id": "proud-galaxy",
   "metadata": {},
   "outputs": [],
   "source": [
    "df = pd.read_csv(r'data/healthcare-dataset-stroke-data.csv')"
   ]
  },
  {
   "cell_type": "code",
   "execution_count": 4,
   "id": "square-windsor",
   "metadata": {},
   "outputs": [
    {
     "data": {
      "text/html": [
       "<div>\n",
       "<style scoped>\n",
       "    .dataframe tbody tr th:only-of-type {\n",
       "        vertical-align: middle;\n",
       "    }\n",
       "\n",
       "    .dataframe tbody tr th {\n",
       "        vertical-align: top;\n",
       "    }\n",
       "\n",
       "    .dataframe thead th {\n",
       "        text-align: right;\n",
       "    }\n",
       "</style>\n",
       "<table border=\"1\" class=\"dataframe\">\n",
       "  <thead>\n",
       "    <tr style=\"text-align: right;\">\n",
       "      <th></th>\n",
       "      <th>0</th>\n",
       "      <th>1</th>\n",
       "      <th>2</th>\n",
       "      <th>3</th>\n",
       "      <th>4</th>\n",
       "    </tr>\n",
       "  </thead>\n",
       "  <tbody>\n",
       "    <tr>\n",
       "      <th>id</th>\n",
       "      <td>9046</td>\n",
       "      <td>51676</td>\n",
       "      <td>31112</td>\n",
       "      <td>60182</td>\n",
       "      <td>1665</td>\n",
       "    </tr>\n",
       "    <tr>\n",
       "      <th>gender</th>\n",
       "      <td>Male</td>\n",
       "      <td>Female</td>\n",
       "      <td>Male</td>\n",
       "      <td>Female</td>\n",
       "      <td>Female</td>\n",
       "    </tr>\n",
       "    <tr>\n",
       "      <th>age</th>\n",
       "      <td>67.0</td>\n",
       "      <td>61.0</td>\n",
       "      <td>80.0</td>\n",
       "      <td>49.0</td>\n",
       "      <td>79.0</td>\n",
       "    </tr>\n",
       "    <tr>\n",
       "      <th>hypertension</th>\n",
       "      <td>0</td>\n",
       "      <td>0</td>\n",
       "      <td>0</td>\n",
       "      <td>0</td>\n",
       "      <td>1</td>\n",
       "    </tr>\n",
       "    <tr>\n",
       "      <th>heart_disease</th>\n",
       "      <td>1</td>\n",
       "      <td>0</td>\n",
       "      <td>1</td>\n",
       "      <td>0</td>\n",
       "      <td>0</td>\n",
       "    </tr>\n",
       "    <tr>\n",
       "      <th>ever_married</th>\n",
       "      <td>Yes</td>\n",
       "      <td>Yes</td>\n",
       "      <td>Yes</td>\n",
       "      <td>Yes</td>\n",
       "      <td>Yes</td>\n",
       "    </tr>\n",
       "    <tr>\n",
       "      <th>work_type</th>\n",
       "      <td>Private</td>\n",
       "      <td>Self-employed</td>\n",
       "      <td>Private</td>\n",
       "      <td>Private</td>\n",
       "      <td>Self-employed</td>\n",
       "    </tr>\n",
       "    <tr>\n",
       "      <th>Residence_type</th>\n",
       "      <td>Urban</td>\n",
       "      <td>Rural</td>\n",
       "      <td>Rural</td>\n",
       "      <td>Urban</td>\n",
       "      <td>Rural</td>\n",
       "    </tr>\n",
       "    <tr>\n",
       "      <th>avg_glucose_level</th>\n",
       "      <td>228.69</td>\n",
       "      <td>202.21</td>\n",
       "      <td>105.92</td>\n",
       "      <td>171.23</td>\n",
       "      <td>174.12</td>\n",
       "    </tr>\n",
       "    <tr>\n",
       "      <th>bmi</th>\n",
       "      <td>36.6</td>\n",
       "      <td>NaN</td>\n",
       "      <td>32.5</td>\n",
       "      <td>34.4</td>\n",
       "      <td>24.0</td>\n",
       "    </tr>\n",
       "    <tr>\n",
       "      <th>smoking_status</th>\n",
       "      <td>formerly smoked</td>\n",
       "      <td>never smoked</td>\n",
       "      <td>never smoked</td>\n",
       "      <td>smokes</td>\n",
       "      <td>never smoked</td>\n",
       "    </tr>\n",
       "    <tr>\n",
       "      <th>stroke</th>\n",
       "      <td>1</td>\n",
       "      <td>1</td>\n",
       "      <td>1</td>\n",
       "      <td>1</td>\n",
       "      <td>1</td>\n",
       "    </tr>\n",
       "  </tbody>\n",
       "</table>\n",
       "</div>"
      ],
      "text/plain": [
       "                                 0              1             2        3  \\\n",
       "id                            9046          51676         31112    60182   \n",
       "gender                        Male         Female          Male   Female   \n",
       "age                           67.0           61.0          80.0     49.0   \n",
       "hypertension                     0              0             0        0   \n",
       "heart_disease                    1              0             1        0   \n",
       "ever_married                   Yes            Yes           Yes      Yes   \n",
       "work_type                  Private  Self-employed       Private  Private   \n",
       "Residence_type               Urban          Rural         Rural    Urban   \n",
       "avg_glucose_level           228.69         202.21        105.92   171.23   \n",
       "bmi                           36.6            NaN          32.5     34.4   \n",
       "smoking_status     formerly smoked   never smoked  never smoked   smokes   \n",
       "stroke                           1              1             1        1   \n",
       "\n",
       "                               4  \n",
       "id                          1665  \n",
       "gender                    Female  \n",
       "age                         79.0  \n",
       "hypertension                   1  \n",
       "heart_disease                  0  \n",
       "ever_married                 Yes  \n",
       "work_type          Self-employed  \n",
       "Residence_type             Rural  \n",
       "avg_glucose_level         174.12  \n",
       "bmi                         24.0  \n",
       "smoking_status      never smoked  \n",
       "stroke                         1  "
      ]
     },
     "execution_count": 4,
     "metadata": {},
     "output_type": "execute_result"
    }
   ],
   "source": [
    "# read the first 5 lines of data\n",
    "\n",
    "df.head().T"
   ]
  },
  {
   "cell_type": "markdown",
   "id": "sensitive-counter",
   "metadata": {},
   "source": [
    "## 1.2 Understanding the dataset"
   ]
  },
  {
   "cell_type": "code",
   "execution_count": 5,
   "id": "above-horse",
   "metadata": {},
   "outputs": [
    {
     "name": "stdout",
     "output_type": "stream",
     "text": [
      "Number of rows:  5110 \n",
      "Number of columns:  12\n",
      "Number of 'id' in this data: 5110\n"
     ]
    }
   ],
   "source": [
    "print('Number of rows: ', df.shape[0], '\\nNumber of columns: ', df.shape[1])\n",
    "print('Number of \\'id\\' in this data:', df.id.nunique())\n",
    "\n",
    "# row count is the same as unique id count, so setting id as index\n",
    "df = df.set_index('id')"
   ]
  },
  {
   "cell_type": "code",
   "execution_count": 6,
   "id": "helpful-access",
   "metadata": {},
   "outputs": [
    {
     "name": "stdout",
     "output_type": "stream",
     "text": [
      "<class 'pandas.core.frame.DataFrame'>\n",
      "Int64Index: 5110 entries, 9046 to 44679\n",
      "Data columns (total 11 columns):\n",
      " #   Column             Non-Null Count  Dtype  \n",
      "---  ------             --------------  -----  \n",
      " 0   gender             5110 non-null   object \n",
      " 1   age                5110 non-null   float64\n",
      " 2   hypertension       5110 non-null   int64  \n",
      " 3   heart_disease      5110 non-null   int64  \n",
      " 4   ever_married       5110 non-null   object \n",
      " 5   work_type          5110 non-null   object \n",
      " 6   Residence_type     5110 non-null   object \n",
      " 7   avg_glucose_level  5110 non-null   float64\n",
      " 8   bmi                4909 non-null   float64\n",
      " 9   smoking_status     5110 non-null   object \n",
      " 10  stroke             5110 non-null   int64  \n",
      "dtypes: float64(3), int64(3), object(5)\n",
      "memory usage: 479.1+ KB\n"
     ]
    }
   ],
   "source": [
    "df.info()"
   ]
  },
  {
   "cell_type": "code",
   "execution_count": 7,
   "id": "vital-keyboard",
   "metadata": {},
   "outputs": [
    {
     "name": "stdout",
     "output_type": "stream",
     "text": [
      "-----------------------------------------\n",
      "Column Name:  gender \n",
      "-----------------------------------------\n",
      "Unique Count of Input: 3\n",
      "Female    2994\n",
      "Male      2115\n",
      "Other        1\n",
      "Name: gender, dtype: int64\n",
      "\n",
      "\n",
      "-----------------------------------------\n",
      "Column Name:  age \n",
      "-----------------------------------------\n",
      "Unique Count of Input: 104\n",
      "\n",
      "\n",
      "-----------------------------------------\n",
      "Column Name:  hypertension \n",
      "-----------------------------------------\n",
      "Unique Count of Input: 2\n",
      "0    4612\n",
      "1     498\n",
      "Name: hypertension, dtype: int64\n",
      "\n",
      "\n",
      "-----------------------------------------\n",
      "Column Name:  heart_disease \n",
      "-----------------------------------------\n",
      "Unique Count of Input: 2\n",
      "0    4834\n",
      "1     276\n",
      "Name: heart_disease, dtype: int64\n",
      "\n",
      "\n",
      "-----------------------------------------\n",
      "Column Name:  ever_married \n",
      "-----------------------------------------\n",
      "Unique Count of Input: 2\n",
      "Yes    3353\n",
      "No     1757\n",
      "Name: ever_married, dtype: int64\n",
      "\n",
      "\n",
      "-----------------------------------------\n",
      "Column Name:  work_type \n",
      "-----------------------------------------\n",
      "Unique Count of Input: 5\n",
      "Private          2925\n",
      "Self-employed     819\n",
      "children          687\n",
      "Govt_job          657\n",
      "Never_worked       22\n",
      "Name: work_type, dtype: int64\n",
      "\n",
      "\n",
      "-----------------------------------------\n",
      "Column Name:  Residence_type \n",
      "-----------------------------------------\n",
      "Unique Count of Input: 2\n",
      "Urban    2596\n",
      "Rural    2514\n",
      "Name: Residence_type, dtype: int64\n",
      "\n",
      "\n",
      "-----------------------------------------\n",
      "Column Name:  avg_glucose_level \n",
      "-----------------------------------------\n",
      "Unique Count of Input: 3979\n",
      "\n",
      "\n",
      "-----------------------------------------\n",
      "Column Name:  bmi \n",
      "-----------------------------------------\n",
      "Unique Count of Input: 418\n",
      "\n",
      "\n",
      "-----------------------------------------\n",
      "Column Name:  smoking_status \n",
      "-----------------------------------------\n",
      "Unique Count of Input: 4\n",
      "never smoked       1892\n",
      "Unknown            1544\n",
      "formerly smoked     885\n",
      "smokes              789\n",
      "Name: smoking_status, dtype: int64\n",
      "\n",
      "\n",
      "-----------------------------------------\n",
      "Column Name:  stroke \n",
      "-----------------------------------------\n",
      "Unique Count of Input: 2\n",
      "0    4861\n",
      "1     249\n",
      "Name: stroke, dtype: int64\n",
      "\n",
      "\n"
     ]
    }
   ],
   "source": [
    "# Understanding each columns how many unique count of data is contained\n",
    "\n",
    "for i in df.columns:\n",
    "    unique_cnt = df[i].nunique()\n",
    "    print('-----------------------------------------')\n",
    "    print('Column Name: ',i,'\\n-----------------------------------------\\nUnique Count of Input:', unique_cnt)\n",
    "    if unique_cnt < 6:\n",
    "        print(df[i].value_counts())\n",
    "    print('\\n')"
   ]
  },
  {
   "cell_type": "markdown",
   "id": "dated-break",
   "metadata": {},
   "source": [
    "## 1.3 Data definition:\n",
    "\n",
    "Number of rows:  5110 <br>\n",
    "Number of columns:  11 <br><br>\n",
    "There are 10 features in this datasets:\n",
    "\n",
    "| Feature | Data type | Other descriptions | Processing Needed? | Missing Value? | Encoding Needed? |\n",
    "| ------- | --------- | ------------------ | ----------------- | --------------- | ---------------- |\n",
    "gender | categorical | Female, Male, Other | T | T (Other) | T |\n",
    "age | float64 | | F | F | F |\n",
    "hypertension | boolean | 0, 1 | T | F | F |\n",
    "heart_disease | boolean | 0, 1| T | F | F |\n",
    "ever_married | boolean | Yes, No | T | F | F |\n",
    "work_type | categorical | Private, Self-employed, children, Govt_job, Never_worked | T | F | T |\n",
    "residence_type | categorical | Rural, Urban | T | F | T |\n",
    "avg_glucose_level | float64 | | F | F | F |\n",
    "bmi | float64 | | F | T | F |\n",
    "smoking_status | categorical | never smoked, Unknown, formerly smoked, smokes | T | F | T |\n",
    "stroke | boolean | 0, 1 | T | F | F |"
   ]
  },
  {
   "cell_type": "markdown",
   "id": "neutral-danish",
   "metadata": {},
   "source": [
    "## 1.4 Data cleaning\n",
    "#### 1.4.1 Renaming columns"
   ]
  },
  {
   "cell_type": "code",
   "execution_count": 8,
   "id": "rubber-nickname",
   "metadata": {},
   "outputs": [],
   "source": [
    "# renaming columns to lower-case 'R' in Residence_type\n",
    "\n",
    "df.columns = ['gender', 'age', 'hypertension', 'heart_disease', 'ever_married',\n",
    "       'work_type', 'residence_type', 'avg_glucose_level', 'bmi',\n",
    "       'smoking_status', 'stroke']"
   ]
  },
  {
   "cell_type": "markdown",
   "id": "focal-complex",
   "metadata": {},
   "source": [
    "#### 1.4.2 Cleaning by feature\n",
    "\n",
    "Check for: <br>\n",
    "1. data type\n",
    "2. data range: extrerme numbers\n",
    "2. missing values"
   ]
  },
  {
   "cell_type": "markdown",
   "id": "conceptual-graduate",
   "metadata": {},
   "source": [
    "#### Gender"
   ]
  },
  {
   "cell_type": "code",
   "execution_count": 28,
   "id": "gross-plant",
   "metadata": {},
   "outputs": [
    {
     "data": {
      "text/plain": [
       "dtype('O')"
      ]
     },
     "execution_count": 28,
     "metadata": {},
     "output_type": "execute_result"
    }
   ],
   "source": [
    "# data type\n",
    "df.gender.dtype"
   ]
  },
  {
   "cell_type": "code",
   "execution_count": 30,
   "id": "broad-vegetation",
   "metadata": {},
   "outputs": [
    {
     "data": {
      "text/plain": [
       "Female    2994\n",
       "Male      2115\n",
       "Other        1\n",
       "Name: gender, dtype: int64"
      ]
     },
     "execution_count": 30,
     "metadata": {},
     "output_type": "execute_result"
    }
   ],
   "source": [
    "df.gender.value_counts()"
   ]
  },
  {
   "cell_type": "code",
   "execution_count": 112,
   "id": "photographic-radius",
   "metadata": {},
   "outputs": [],
   "source": [
    "# lower the categorical names\n",
    "df['gender'] = df['gender'].str.lower()"
   ]
  },
  {
   "cell_type": "code",
   "execution_count": 113,
   "id": "fitting-artist",
   "metadata": {},
   "outputs": [
    {
     "data": {
      "text/html": [
       "<div>\n",
       "<style scoped>\n",
       "    .dataframe tbody tr th:only-of-type {\n",
       "        vertical-align: middle;\n",
       "    }\n",
       "\n",
       "    .dataframe tbody tr th {\n",
       "        vertical-align: top;\n",
       "    }\n",
       "\n",
       "    .dataframe thead th {\n",
       "        text-align: right;\n",
       "    }\n",
       "</style>\n",
       "<table border=\"1\" class=\"dataframe\">\n",
       "  <thead>\n",
       "    <tr style=\"text-align: right;\">\n",
       "      <th></th>\n",
       "      <th>gender</th>\n",
       "      <th>age</th>\n",
       "      <th>hypertension</th>\n",
       "      <th>heart_disease</th>\n",
       "      <th>ever_married</th>\n",
       "      <th>work_type</th>\n",
       "      <th>residence_type</th>\n",
       "      <th>avg_glucose_level</th>\n",
       "      <th>bmi</th>\n",
       "      <th>smoking_status</th>\n",
       "      <th>stroke</th>\n",
       "    </tr>\n",
       "    <tr>\n",
       "      <th>id</th>\n",
       "      <th></th>\n",
       "      <th></th>\n",
       "      <th></th>\n",
       "      <th></th>\n",
       "      <th></th>\n",
       "      <th></th>\n",
       "      <th></th>\n",
       "      <th></th>\n",
       "      <th></th>\n",
       "      <th></th>\n",
       "      <th></th>\n",
       "    </tr>\n",
       "  </thead>\n",
       "  <tbody>\n",
       "    <tr>\n",
       "      <th>56156</th>\n",
       "      <td>other</td>\n",
       "      <td>26.0</td>\n",
       "      <td>0</td>\n",
       "      <td>0</td>\n",
       "      <td>0</td>\n",
       "      <td>Private</td>\n",
       "      <td>Rural</td>\n",
       "      <td>143.33</td>\n",
       "      <td>22.4</td>\n",
       "      <td>formerly smoked</td>\n",
       "      <td>0</td>\n",
       "    </tr>\n",
       "  </tbody>\n",
       "</table>\n",
       "</div>"
      ],
      "text/plain": [
       "      gender   age  hypertension  heart_disease  ever_married work_type  \\\n",
       "id                                                                        \n",
       "56156  other  26.0             0              0             0   Private   \n",
       "\n",
       "      residence_type  avg_glucose_level   bmi   smoking_status  stroke  \n",
       "id                                                                      \n",
       "56156          Rural             143.33  22.4  formerly smoked       0  "
      ]
     },
     "execution_count": 113,
     "metadata": {},
     "output_type": "execute_result"
    }
   ],
   "source": [
    "# find out what that one row of other is\n",
    "\n",
    "df[df['gender'] == 'other'] # can't tell what gender this data point is, not sure how it'll impact the model later on, keep for now"
   ]
  },
  {
   "cell_type": "markdown",
   "id": "english-thomson",
   "metadata": {},
   "source": [
    "#### Age"
   ]
  },
  {
   "cell_type": "code",
   "execution_count": 31,
   "id": "solar-nancy",
   "metadata": {},
   "outputs": [
    {
     "data": {
      "text/plain": [
       "dtype('float64')"
      ]
     },
     "execution_count": 31,
     "metadata": {},
     "output_type": "execute_result"
    }
   ],
   "source": [
    "# data type\n",
    "df.age.dtype"
   ]
  },
  {
   "cell_type": "code",
   "execution_count": 13,
   "id": "medical-eating",
   "metadata": {},
   "outputs": [
    {
     "data": {
      "text/plain": [
       "count    5110.000000\n",
       "mean       43.226614\n",
       "std        22.612647\n",
       "min         0.080000\n",
       "25%        25.000000\n",
       "50%        45.000000\n",
       "75%        61.000000\n",
       "max        82.000000\n",
       "Name: age, dtype: float64"
      ]
     },
     "execution_count": 13,
     "metadata": {},
     "output_type": "execute_result"
    }
   ],
   "source": [
    "# age data range\n",
    "df['age'].describe() # min age is not an integer, age column can be float64"
   ]
  },
  {
   "cell_type": "code",
   "execution_count": 37,
   "id": "overall-meditation",
   "metadata": {},
   "outputs": [],
   "source": [
    "def ecdf(data):\n",
    "    n = len(data)\n",
    "    x = np.sort(data)\n",
    "    y = np.arange(1, n+1)/n\n",
    "    return x,y"
   ]
  },
  {
   "cell_type": "code",
   "execution_count": 40,
   "id": "tropical-tuition",
   "metadata": {},
   "outputs": [
    {
     "data": {
      "image/png": "[encoded data removed]",
      "text/plain": [
       "<Figure size 432x288 with 1 Axes>"
      ]
     },
     "metadata": {},
     "output_type": "display_data"
    }
   ],
   "source": [
    "x,y = ecdf(df['age'])\n",
    "_ = plt.plot(x,y,linestyle='none', marker='.')\n",
    "_ = plt.xlabel('age')\n",
    "_ = plt.ylabel('ECDF')\n",
    "\n",
    "# RANGE: look pretty well-distributed"
   ]
  },
  {
   "cell_type": "code",
   "execution_count": 42,
   "id": "excellent-algeria",
   "metadata": {},
   "outputs": [
    {
     "data": {
      "text/html": [
       "<div>\n",
       "<style scoped>\n",
       "    .dataframe tbody tr th:only-of-type {\n",
       "        vertical-align: middle;\n",
       "    }\n",
       "\n",
       "    .dataframe tbody tr th {\n",
       "        vertical-align: top;\n",
       "    }\n",
       "\n",
       "    .dataframe thead th {\n",
       "        text-align: right;\n",
       "    }\n",
       "</style>\n",
       "<table border=\"1\" class=\"dataframe\">\n",
       "  <thead>\n",
       "    <tr style=\"text-align: right;\">\n",
       "      <th></th>\n",
       "      <th>gender</th>\n",
       "      <th>age</th>\n",
       "      <th>hypertension</th>\n",
       "      <th>heart_disease</th>\n",
       "      <th>ever_married</th>\n",
       "      <th>work_type</th>\n",
       "      <th>residence_type</th>\n",
       "      <th>avg_glucose_level</th>\n",
       "      <th>bmi</th>\n",
       "      <th>smoking_status</th>\n",
       "      <th>stroke</th>\n",
       "    </tr>\n",
       "    <tr>\n",
       "      <th>id</th>\n",
       "      <th></th>\n",
       "      <th></th>\n",
       "      <th></th>\n",
       "      <th></th>\n",
       "      <th></th>\n",
       "      <th></th>\n",
       "      <th></th>\n",
       "      <th></th>\n",
       "      <th></th>\n",
       "      <th></th>\n",
       "      <th></th>\n",
       "    </tr>\n",
       "  </thead>\n",
       "  <tbody>\n",
       "  </tbody>\n",
       "</table>\n",
       "</div>"
      ],
      "text/plain": [
       "Empty DataFrame\n",
       "Columns: [gender, age, hypertension, heart_disease, ever_married, work_type, residence_type, avg_glucose_level, bmi, smoking_status, stroke]\n",
       "Index: []"
      ]
     },
     "execution_count": 42,
     "metadata": {},
     "output_type": "execute_result"
    }
   ],
   "source": [
    "df[df['age'].isna() == True] \n",
    "# MISSING VALUES: none"
   ]
  },
  {
   "cell_type": "markdown",
   "id": "similar-possibility",
   "metadata": {},
   "source": [
    "#### hypertension"
   ]
  },
  {
   "cell_type": "code",
   "execution_count": 46,
   "id": "latter-direction",
   "metadata": {},
   "outputs": [
    {
     "data": {
      "text/plain": [
       "dtype('int64')"
      ]
     },
     "execution_count": 46,
     "metadata": {},
     "output_type": "execute_result"
    }
   ],
   "source": [
    "# DATA TYPE\n",
    "df.hypertension.dtype"
   ]
  },
  {
   "cell_type": "code",
   "execution_count": 54,
   "id": "cellular-humidity",
   "metadata": {},
   "outputs": [
    {
     "data": {
      "text/plain": [
       "0    4612\n",
       "1     498\n",
       "Name: hypertension, dtype: int64"
      ]
     },
     "execution_count": 54,
     "metadata": {},
     "output_type": "execute_result"
    }
   ],
   "source": [
    "# DATA RANG & MISSING VALUES\n",
    "df['hypertension'].value_counts() #no missing values"
   ]
  },
  {
   "cell_type": "markdown",
   "id": "academic-contributor",
   "metadata": {},
   "source": [
    "According to cdc, 45% of adults have hypertension, 24% of adults with hypertension have their conditions under control (~10.8% of the adult population)\n",
    "\n",
    "Source: https://www.cdc.gov/bloodpressure/facts.htm#:~:text=Nearly%20half%20of%20adults%20in,are%20taking%20medication%20for%20hypertension.&text=Only%20about%201%20in%204,have%20their%20condition%20under%20control."
   ]
  },
  {
   "cell_type": "code",
   "execution_count": 55,
   "id": "prepared-fields",
   "metadata": {},
   "outputs": [
    {
     "data": {
      "text/html": [
       "<div>\n",
       "<style scoped>\n",
       "    .dataframe tbody tr th:only-of-type {\n",
       "        vertical-align: middle;\n",
       "    }\n",
       "\n",
       "    .dataframe tbody tr th {\n",
       "        vertical-align: top;\n",
       "    }\n",
       "\n",
       "    .dataframe thead th {\n",
       "        text-align: right;\n",
       "    }\n",
       "</style>\n",
       "<table border=\"1\" class=\"dataframe\">\n",
       "  <thead>\n",
       "    <tr style=\"text-align: right;\">\n",
       "      <th></th>\n",
       "      <th>hypertension</th>\n",
       "      <th>percentage</th>\n",
       "    </tr>\n",
       "  </thead>\n",
       "  <tbody>\n",
       "    <tr>\n",
       "      <th>0</th>\n",
       "      <td>3757</td>\n",
       "      <td>0.883169</td>\n",
       "    </tr>\n",
       "    <tr>\n",
       "      <th>1</th>\n",
       "      <td>497</td>\n",
       "      <td>0.116831</td>\n",
       "    </tr>\n",
       "  </tbody>\n",
       "</table>\n",
       "</div>"
      ],
      "text/plain": [
       "   hypertension  percentage\n",
       "0          3757    0.883169\n",
       "1           497    0.116831"
      ]
     },
     "execution_count": 55,
     "metadata": {},
     "output_type": "execute_result"
    }
   ],
   "source": [
    "df_ht = df[df['age'] >= 18]['hypertension'].value_counts().to_frame()\n",
    "df_ht['percentage'] = df_ht['hypertension']/df_ht['hypertension'].sum()\n",
    "df_ht"
   ]
  },
  {
   "cell_type": "markdown",
   "id": "passing-dynamics",
   "metadata": {},
   "source": [
    "Surprisingly, it matches up pretty well with cdc. No major red flag here."
   ]
  },
  {
   "cell_type": "markdown",
   "id": "statistical-stewart",
   "metadata": {},
   "source": [
    "#### heart_disease"
   ]
  },
  {
   "cell_type": "code",
   "execution_count": 48,
   "id": "classical-jewelry",
   "metadata": {},
   "outputs": [
    {
     "data": {
      "text/plain": [
       "dtype('int64')"
      ]
     },
     "execution_count": 48,
     "metadata": {},
     "output_type": "execute_result"
    }
   ],
   "source": [
    "# DATA TYPE\n",
    "df.heart_disease.dtype"
   ]
  },
  {
   "cell_type": "code",
   "execution_count": 56,
   "id": "whole-louisiana",
   "metadata": {},
   "outputs": [
    {
     "data": {
      "text/plain": [
       "0    4834\n",
       "1     276\n",
       "Name: heart_disease, dtype: int64"
      ]
     },
     "execution_count": 56,
     "metadata": {},
     "output_type": "execute_result"
    }
   ],
   "source": [
    "# DATA RANGE & MISSING VALUES\n",
    "\n",
    "df.heart_disease.value_counts()"
   ]
  },
  {
   "cell_type": "markdown",
   "id": "rising-barrel",
   "metadata": {},
   "source": [
    "According to NCBI, about 7% of Americans aged 20+ have Cardiovascular disease.\n",
    "8.3% are men, 6.1% are female.\n",
    "\n",
    "Source: https://www.ncbi.nlm.nih.gov/books/NBK83160/#:~:text=of%20Cardiovascular%20Disease-,Coronary%20Heart%20Disease,for%20women%20is%206.1%20percent."
   ]
  },
  {
   "cell_type": "code",
   "execution_count": 60,
   "id": "african-boxing",
   "metadata": {},
   "outputs": [
    {
     "data": {
      "text/html": [
       "<div>\n",
       "<style scoped>\n",
       "    .dataframe tbody tr th:only-of-type {\n",
       "        vertical-align: middle;\n",
       "    }\n",
       "\n",
       "    .dataframe tbody tr th {\n",
       "        vertical-align: top;\n",
       "    }\n",
       "\n",
       "    .dataframe thead th {\n",
       "        text-align: right;\n",
       "    }\n",
       "</style>\n",
       "<table border=\"1\" class=\"dataframe\">\n",
       "  <thead>\n",
       "    <tr style=\"text-align: right;\">\n",
       "      <th></th>\n",
       "      <th>heart_disease</th>\n",
       "      <th>percentage</th>\n",
       "    </tr>\n",
       "  </thead>\n",
       "  <tbody>\n",
       "    <tr>\n",
       "      <th>0</th>\n",
       "      <td>3869</td>\n",
       "      <td>0.933639</td>\n",
       "    </tr>\n",
       "    <tr>\n",
       "      <th>1</th>\n",
       "      <td>275</td>\n",
       "      <td>0.066361</td>\n",
       "    </tr>\n",
       "  </tbody>\n",
       "</table>\n",
       "</div>"
      ],
      "text/plain": [
       "   heart_disease  percentage\n",
       "0           3869    0.933639\n",
       "1            275    0.066361"
      ]
     },
     "execution_count": 60,
     "metadata": {},
     "output_type": "execute_result"
    }
   ],
   "source": [
    "df_hd = df[df['age'] >= 20]['heart_disease'].value_counts().to_frame()\n",
    "df_hd['percentage'] = df_hd['heart_disease']/df_hd['heart_disease'].sum()\n",
    "df_hd"
   ]
  },
  {
   "cell_type": "code",
   "execution_count": 61,
   "id": "immune-judge",
   "metadata": {},
   "outputs": [
    {
     "data": {
      "text/html": [
       "<div>\n",
       "<style scoped>\n",
       "    .dataframe tbody tr th:only-of-type {\n",
       "        vertical-align: middle;\n",
       "    }\n",
       "\n",
       "    .dataframe tbody tr th {\n",
       "        vertical-align: top;\n",
       "    }\n",
       "\n",
       "    .dataframe thead th {\n",
       "        text-align: right;\n",
       "    }\n",
       "</style>\n",
       "<table border=\"1\" class=\"dataframe\">\n",
       "  <thead>\n",
       "    <tr style=\"text-align: right;\">\n",
       "      <th></th>\n",
       "      <th>heart_disease</th>\n",
       "      <th>percentage</th>\n",
       "    </tr>\n",
       "    <tr>\n",
       "      <th>gender</th>\n",
       "      <th></th>\n",
       "      <th></th>\n",
       "    </tr>\n",
       "  </thead>\n",
       "  <tbody>\n",
       "    <tr>\n",
       "      <th>Female</th>\n",
       "      <td>113</td>\n",
       "      <td>0.410909</td>\n",
       "    </tr>\n",
       "    <tr>\n",
       "      <th>Male</th>\n",
       "      <td>162</td>\n",
       "      <td>0.589091</td>\n",
       "    </tr>\n",
       "    <tr>\n",
       "      <th>Other</th>\n",
       "      <td>0</td>\n",
       "      <td>0.000000</td>\n",
       "    </tr>\n",
       "  </tbody>\n",
       "</table>\n",
       "</div>"
      ],
      "text/plain": [
       "        heart_disease  percentage\n",
       "gender                           \n",
       "Female            113    0.410909\n",
       "Male              162    0.589091\n",
       "Other               0    0.000000"
      ]
     },
     "execution_count": 61,
     "metadata": {},
     "output_type": "execute_result"
    }
   ],
   "source": [
    "df_hd = df[df['age'] >= 20].groupby('gender').agg({'heart_disease':'sum'})\n",
    "df_hd['percentage'] = df_hd['heart_disease']/df_hd['heart_disease'].sum()\n",
    "df_hd"
   ]
  },
  {
   "cell_type": "markdown",
   "id": "graduate-crazy",
   "metadata": {},
   "source": [
    "Again, it follows similar trend with NCBI. with 6.6% of heart disease on sample aged 20+. and more male with heart disease than female."
   ]
  },
  {
   "cell_type": "markdown",
   "id": "essential-architect",
   "metadata": {},
   "source": [
    "#### ever_married"
   ]
  },
  {
   "cell_type": "code",
   "execution_count": 62,
   "id": "chief-franchise",
   "metadata": {},
   "outputs": [
    {
     "data": {
      "text/plain": [
       "dtype('int32')"
      ]
     },
     "execution_count": 62,
     "metadata": {},
     "output_type": "execute_result"
    }
   ],
   "source": [
    "# DATA TYPE\n",
    "df.ever_married.dtypes"
   ]
  },
  {
   "cell_type": "code",
   "execution_count": 63,
   "id": "damaged-adapter",
   "metadata": {},
   "outputs": [
    {
     "data": {
      "text/plain": [
       "1    3353\n",
       "0    1757\n",
       "Name: ever_married, dtype: int64"
      ]
     },
     "execution_count": 63,
     "metadata": {},
     "output_type": "execute_result"
    }
   ],
   "source": [
    "# ever_married\n",
    "# change to boolean with 1,0\n",
    "\n",
    "df['ever_married'] = np.where(df['ever_married'] == 'Yes', 1,0)\n",
    "df['ever_married'].value_counts()"
   ]
  },
  {
   "cell_type": "code",
   "execution_count": 68,
   "id": "amended-instruction",
   "metadata": {},
   "outputs": [
    {
     "name": "stdout",
     "output_type": "stream",
     "text": [
      "76.01 % of people married\n"
     ]
    }
   ],
   "source": [
    "print(str(round(df[df['ever_married'] == 1].shape[0] / df[df['age'] >= 15].shape[0] *100, 2)), '% of people married')"
   ]
  },
  {
   "cell_type": "markdown",
   "id": "grateful-prairie",
   "metadata": {},
   "source": [
    "According to an article in USA today in 2019, about 48.2% pf Americans age 15 and over are married.\n",
    "\n",
    "Our dataset has more married people than national average.\n",
    "\n",
    "Source: https://www.usatoday.com/story/money/2019/03/07/marriage-us-states-highest-percentage-married-people/39043233/#:~:text=Nationwide%2C%20nearly%20half%20(48.2%20percent,have%20not%20remarried%20or%20separated.&text=In%20some%20states%2C%20a%20higher,and%20older%20residents%20are%20married."
   ]
  },
  {
   "cell_type": "markdown",
   "id": "western-career",
   "metadata": {},
   "source": [
    "#### work_type"
   ]
  },
  {
   "cell_type": "code",
   "execution_count": 115,
   "id": "exotic-cardiff",
   "metadata": {},
   "outputs": [
    {
     "data": {
      "text/plain": [
       "dtype('O')"
      ]
     },
     "execution_count": 115,
     "metadata": {},
     "output_type": "execute_result"
    }
   ],
   "source": [
    "df.work_type.dtype"
   ]
  },
  {
   "cell_type": "code",
   "execution_count": 117,
   "id": "artificial-characterization",
   "metadata": {},
   "outputs": [
    {
     "data": {
      "text/plain": [
       "Private          2925\n",
       "Self-employed     819\n",
       "children          687\n",
       "Govt_job          657\n",
       "Never_worked       22\n",
       "Name: work_type, dtype: int64"
      ]
     },
     "execution_count": 117,
     "metadata": {},
     "output_type": "execute_result"
    }
   ],
   "source": [
    "df.work_type.value_counts()"
   ]
  },
  {
   "cell_type": "code",
   "execution_count": 118,
   "id": "pediatric-variable",
   "metadata": {},
   "outputs": [],
   "source": [
    "# lower the categorical names\n",
    "df['work_type'] = df['work_type'].str.lower()"
   ]
  },
  {
   "cell_type": "markdown",
   "id": "challenging-headline",
   "metadata": {},
   "source": [
    "#### residence_type"
   ]
  },
  {
   "cell_type": "code",
   "execution_count": 119,
   "id": "collaborative-double",
   "metadata": {},
   "outputs": [
    {
     "data": {
      "text/plain": [
       "dtype('O')"
      ]
     },
     "execution_count": 119,
     "metadata": {},
     "output_type": "execute_result"
    }
   ],
   "source": [
    "df.residence_type.dtype"
   ]
  },
  {
   "cell_type": "code",
   "execution_count": 120,
   "id": "complicated-sheep",
   "metadata": {},
   "outputs": [
    {
     "data": {
      "text/plain": [
       "Urban    2596\n",
       "Rural    2514\n",
       "Name: residence_type, dtype: int64"
      ]
     },
     "execution_count": 120,
     "metadata": {},
     "output_type": "execute_result"
    }
   ],
   "source": [
    "df.residence_type.value_counts()"
   ]
  },
  {
   "cell_type": "code",
   "execution_count": 121,
   "id": "chubby-times",
   "metadata": {},
   "outputs": [],
   "source": [
    "# lower the categorical names\n",
    "df['residence_type'] = df['residence_type'].str.lower()"
   ]
  },
  {
   "cell_type": "markdown",
   "id": "answering-birthday",
   "metadata": {},
   "source": [
    "#### avg_glucose_level"
   ]
  },
  {
   "cell_type": "code",
   "execution_count": 70,
   "id": "weekly-colorado",
   "metadata": {},
   "outputs": [
    {
     "data": {
      "text/plain": [
       "dtype('float64')"
      ]
     },
     "execution_count": 70,
     "metadata": {},
     "output_type": "execute_result"
    }
   ],
   "source": [
    "# DATA TYPE\n",
    "df.avg_glucose_level.dtype # float64 is good dtype"
   ]
  },
  {
   "cell_type": "code",
   "execution_count": 16,
   "id": "aware-norfolk",
   "metadata": {},
   "outputs": [
    {
     "data": {
      "text/plain": [
       "count    5110.000000\n",
       "mean      106.147677\n",
       "std        45.283560\n",
       "min        55.120000\n",
       "25%        77.245000\n",
       "50%        91.885000\n",
       "75%       114.090000\n",
       "max       271.740000\n",
       "Name: avg_glucose_level, dtype: float64"
      ]
     },
     "execution_count": 16,
     "metadata": {},
     "output_type": "execute_result"
    }
   ],
   "source": [
    "# data range\n",
    "df.avg_glucose_level.describe() "
   ]
  },
  {
   "cell_type": "markdown",
   "id": "fifteen-thing",
   "metadata": {},
   "source": [
    "A blood sugar level less than 140 mg/dL (7.8 mmol/L) is normal... A reading between 140 and 199 mg/dL (7.8 mmol/L and 11.0 mmol/L) indicates prediabetes.\n",
    "\n",
    "Source: https://www.mayoclinic.org/diseases-conditions/diabetes/diagnosis-treatment/drc-20371451#:~:text=A%20blood%20sugar%20level%20less,mmol%2FL)%20indicates%20prediabetes."
   ]
  },
  {
   "cell_type": "code",
   "execution_count": 80,
   "id": "alternative-laugh",
   "metadata": {},
   "outputs": [
    {
     "name": "stderr",
     "output_type": "stream",
     "text": [
      "C:\\Users\\cchan\\Anaconda3\\lib\\site-packages\\ipykernel_launcher.py:14: SettingWithCopyWarning: \n",
      "A value is trying to be set on a copy of a slice from a DataFrame.\n",
      "Try using .loc[row_indexer,col_indexer] = value instead\n",
      "\n",
      "See the caveats in the documentation: https://pandas.pydata.org/pandas-docs/stable/user_guide/indexing.html#returning-a-view-versus-a-copy\n",
      "  \n"
     ]
    }
   ],
   "source": [
    "def glucose(num):\n",
    "    if num < 54:\n",
    "        return 'Hypoglycemic'\n",
    "    elif num < 70:\n",
    "        return 'Low'\n",
    "    elif num < 140:\n",
    "        return 'Healthy'\n",
    "    elif num < 199:\n",
    "        return 'Prediabetic'\n",
    "    else:\n",
    "        return 'Diabetic'\n",
    "\n",
    "df_plot = df[['avg_glucose_level']]\n",
    "df_plot['diabetic'] = df_plot['avg_glucose_level'].apply(glucose)"
   ]
  },
  {
   "cell_type": "code",
   "execution_count": 81,
   "id": "incident-accounting",
   "metadata": {},
   "outputs": [
    {
     "data": {
      "text/plain": [
       "Healthy        3535\n",
       "Low             754\n",
       "Diabetic        445\n",
       "Prediabetic     376\n",
       "Name: diabetic, dtype: int64"
      ]
     },
     "execution_count": 81,
     "metadata": {},
     "output_type": "execute_result"
    }
   ],
   "source": [
    "df_plot['diabetic'].value_counts()"
   ]
  },
  {
   "cell_type": "code",
   "execution_count": 85,
   "id": "strong-nancy",
   "metadata": {},
   "outputs": [
    {
     "name": "stdout",
     "output_type": "stream",
     "text": [
      "<class 'pandas.core.frame.DataFrame'>\n",
      "Int64Index: 5110 entries, 9046 to 44679\n",
      "Data columns (total 1 columns):\n",
      " #   Column             Non-Null Count  Dtype  \n",
      "---  ------             --------------  -----  \n",
      " 0   avg_glucose_level  5110 non-null   float64\n",
      "dtypes: float64(1)\n",
      "memory usage: 79.8 KB\n"
     ]
    }
   ],
   "source": [
    "## Missing Values\n",
    "\n",
    "df[['avg_glucose_level']].info() # no missing values"
   ]
  },
  {
   "cell_type": "markdown",
   "id": "contrary-spirituality",
   "metadata": {},
   "source": [
    "#### BMI"
   ]
  },
  {
   "cell_type": "code",
   "execution_count": 87,
   "id": "isolated-trinity",
   "metadata": {},
   "outputs": [
    {
     "data": {
      "text/plain": [
       "dtype('float64')"
      ]
     },
     "execution_count": 87,
     "metadata": {},
     "output_type": "execute_result"
    }
   ],
   "source": [
    "# DATA TYPE\n",
    "df.bmi.dtype"
   ]
  },
  {
   "cell_type": "code",
   "execution_count": 17,
   "id": "stylish-century",
   "metadata": {},
   "outputs": [
    {
     "data": {
      "text/plain": [
       "count    4909.000000\n",
       "mean       28.893237\n",
       "std         7.854067\n",
       "min        10.300000\n",
       "25%        23.500000\n",
       "50%        28.100000\n",
       "75%        33.100000\n",
       "max        97.600000\n",
       "Name: bmi, dtype: float64"
      ]
     },
     "execution_count": 17,
     "metadata": {},
     "output_type": "execute_result"
    }
   ],
   "source": [
    "# bmi\n",
    "df.bmi.describe() # float64 is good dtype"
   ]
  },
  {
   "cell_type": "code",
   "execution_count": 89,
   "id": "resident-cleanup",
   "metadata": {},
   "outputs": [
    {
     "name": "stderr",
     "output_type": "stream",
     "text": [
      "C:\\Users\\cchan\\Anaconda3\\lib\\site-packages\\ipykernel_launcher.py:12: SettingWithCopyWarning: \n",
      "A value is trying to be set on a copy of a slice from a DataFrame.\n",
      "Try using .loc[row_indexer,col_indexer] = value instead\n",
      "\n",
      "See the caveats in the documentation: https://pandas.pydata.org/pandas-docs/stable/user_guide/indexing.html#returning-a-view-versus-a-copy\n",
      "  if sys.path[0] == '':\n"
     ]
    }
   ],
   "source": [
    "def bmi_calc(num):\n",
    "    if num < 18.5:\n",
    "        return 'Underweight'\n",
    "    elif num < 24.9:\n",
    "        return 'Healthy'\n",
    "    elif num < 29.9:\n",
    "        return 'Overweight'\n",
    "    elif num < 30:\n",
    "        return 'Obese'\n",
    "\n",
    "df_plot = df[['bmi']]\n",
    "df_plot['bmi_category'] = df_plot['bmi'].apply(bmi_calc)"
   ]
  },
  {
   "cell_type": "code",
   "execution_count": 92,
   "id": "technological-uruguay",
   "metadata": {},
   "outputs": [
    {
     "data": {
      "text/plain": [
       "Overweight     1410\n",
       "Healthy        1216\n",
       "Underweight     337\n",
       "Obese            26\n",
       "Name: bmi_category, dtype: int64"
      ]
     },
     "execution_count": 92,
     "metadata": {},
     "output_type": "execute_result"
    }
   ],
   "source": [
    "df_plot['bmi_category'].value_counts()"
   ]
  },
  {
   "cell_type": "code",
   "execution_count": 96,
   "id": "secret-confidentiality",
   "metadata": {},
   "outputs": [
    {
     "name": "stdout",
     "output_type": "stream",
     "text": [
      "28.1 %\n"
     ]
    }
   ],
   "source": [
    "print(round(df_plot[(df_plot['bmi_category'] == 'Overweight') | (df_plot['bmi_category'] == 'Obese')].shape[0]/ df_plot.shape[0] *100, 2),'%')"
   ]
  },
  {
   "cell_type": "code",
   "execution_count": 98,
   "id": "sublime-heart",
   "metadata": {},
   "outputs": [
    {
     "data": {
      "text/plain": [
       "201"
      ]
     },
     "execution_count": 98,
     "metadata": {},
     "output_type": "execute_result"
    }
   ],
   "source": [
    "# MISSING DATA\n",
    "df[df['bmi'].isna() == True].shape[0]"
   ]
  },
  {
   "cell_type": "markdown",
   "id": "played-meter",
   "metadata": {},
   "source": [
    "According to NIH, 2/3 adults were considered to be overweight or have obesity, this 28.1% is too low.\n",
    "Plus, There are 201 missing data points.\n",
    "Empty values will be replaced with average\n",
    "\n",
    "Source\" https://www.niddk.nih.gov/health-information/health-statistics/overweight-obesity"
   ]
  },
  {
   "cell_type": "code",
   "execution_count": 100,
   "id": "surrounded-import",
   "metadata": {},
   "outputs": [],
   "source": [
    "bmi_mean = np.mean(df['bmi'])"
   ]
  },
  {
   "cell_type": "code",
   "execution_count": 101,
   "id": "fifteen-hypothetical",
   "metadata": {},
   "outputs": [],
   "source": [
    "df['bmi'] = df['bmi'].replace(np.nan, bmi_mean)"
   ]
  },
  {
   "cell_type": "markdown",
   "id": "grand-dutch",
   "metadata": {},
   "source": [
    "#### smoking status"
   ]
  },
  {
   "cell_type": "code",
   "execution_count": 102,
   "id": "utility-submission",
   "metadata": {},
   "outputs": [
    {
     "data": {
      "text/plain": [
       "dtype('O')"
      ]
     },
     "execution_count": 102,
     "metadata": {},
     "output_type": "execute_result"
    }
   ],
   "source": [
    "# DTYPE\n",
    "df.smoking_status.dtype"
   ]
  },
  {
   "cell_type": "code",
   "execution_count": 103,
   "id": "moved-pierce",
   "metadata": {},
   "outputs": [
    {
     "data": {
      "text/plain": [
       "never smoked       1892\n",
       "Unknown            1544\n",
       "formerly smoked     885\n",
       "smokes              789\n",
       "Name: smoking_status, dtype: int64"
      ]
     },
     "execution_count": 103,
     "metadata": {},
     "output_type": "execute_result"
    }
   ],
   "source": [
    "df.smoking_status.value_counts()"
   ]
  },
  {
   "cell_type": "code",
   "execution_count": 104,
   "id": "detected-warrior",
   "metadata": {},
   "outputs": [],
   "source": [
    "df['smoking_status'] = df['smoking_status'].replace('Unknown', 'unknown')"
   ]
  },
  {
   "cell_type": "code",
   "execution_count": 105,
   "id": "theoretical-lender",
   "metadata": {},
   "outputs": [
    {
     "name": "stdout",
     "output_type": "stream",
     "text": [
      "<class 'pandas.core.frame.DataFrame'>\n",
      "Int64Index: 5110 entries, 9046 to 44679\n",
      "Data columns (total 1 columns):\n",
      " #   Column          Non-Null Count  Dtype \n",
      "---  ------          --------------  ----- \n",
      " 0   smoking_status  5110 non-null   object\n",
      "dtypes: object(1)\n",
      "memory usage: 79.8+ KB\n"
     ]
    }
   ],
   "source": [
    "# MISSING VALUES\n",
    "\n",
    "df[['smoking_status']].info()\n",
    "\n",
    "## only those 'unknown' values"
   ]
  },
  {
   "cell_type": "code",
   "execution_count": 107,
   "id": "broadband-merchant",
   "metadata": {},
   "outputs": [
    {
     "data": {
      "text/html": [
       "<div>\n",
       "<style scoped>\n",
       "    .dataframe tbody tr th:only-of-type {\n",
       "        vertical-align: middle;\n",
       "    }\n",
       "\n",
       "    .dataframe tbody tr th {\n",
       "        vertical-align: top;\n",
       "    }\n",
       "\n",
       "    .dataframe thead th {\n",
       "        text-align: right;\n",
       "    }\n",
       "</style>\n",
       "<table border=\"1\" class=\"dataframe\">\n",
       "  <thead>\n",
       "    <tr style=\"text-align: right;\">\n",
       "      <th></th>\n",
       "      <th>id</th>\n",
       "      <th>percentage</th>\n",
       "    </tr>\n",
       "    <tr>\n",
       "      <th>smoking_status</th>\n",
       "      <th></th>\n",
       "      <th></th>\n",
       "    </tr>\n",
       "  </thead>\n",
       "  <tbody>\n",
       "    <tr>\n",
       "      <th>formerly smoked</th>\n",
       "      <td>885</td>\n",
       "      <td>0.248177</td>\n",
       "    </tr>\n",
       "    <tr>\n",
       "      <th>never smoked</th>\n",
       "      <td>1892</td>\n",
       "      <td>0.530566</td>\n",
       "    </tr>\n",
       "    <tr>\n",
       "      <th>smokes</th>\n",
       "      <td>789</td>\n",
       "      <td>0.221256</td>\n",
       "    </tr>\n",
       "  </tbody>\n",
       "</table>\n",
       "</div>"
      ],
      "text/plain": [
       "                   id  percentage\n",
       "smoking_status                   \n",
       "formerly smoked   885    0.248177\n",
       "never smoked     1892    0.530566\n",
       "smokes            789    0.221256"
      ]
     },
     "execution_count": 107,
     "metadata": {},
     "output_type": "execute_result"
    }
   ],
   "source": [
    "df_ss = df[df['smoking_status'] != 'unknown'].reset_index().groupby('smoking_status').agg({'id':'count'})\n",
    "df_ss['percentage'] = df_ss['id']/df_ss['id'].sum()\n",
    "df_ss"
   ]
  },
  {
   "cell_type": "markdown",
   "id": "rental-yesterday",
   "metadata": {},
   "source": [
    "According to Statista, about 19% of adults smoke tabacco. Which is similar to the sample here.\n",
    "\n",
    "The group of people who are unknown (n=1544), if our model isn't that good, we'll create a classifier to predict missing values, but leave it for now.\n",
    "\n",
    "Source: https://www.statista.com/topics/1600/smoking/#:~:text=Currently%2C%20around%2019%20percent%20of,to%2021%20percent%20in%202015."
   ]
  },
  {
   "cell_type": "markdown",
   "id": "earlier-ready",
   "metadata": {},
   "source": [
    "# Final Data Metadescription\n",
    "\n",
    "| Feature | Data type | Other descriptions | Processing Needed? | Missing Value? | Encoding Needed? |\n",
    "| ------- | --------- | ------------------ | ----------------- | --------------- | ---------------- |\n",
    "gender | categorical | Female, Male, Other | T | T (Other) | T |\n",
    "age | float64 | | F | F | F |\n",
    "hypertension | int | 0, 1 | T | F | F |\n",
    "heart_disease | int | 0, 1| T | F | F |\n",
    "ever_married | int | 0, 1 | T | F | F |\n",
    "work_type | categorical | Private, Self-employed, children, Govt_job, Never_worked | T | F | T |\n",
    "residence_type | categorical | Rural, Urban | T | F | T |\n",
    "avg_glucose_level | float64 | | F | F | F |\n",
    "bmi | float64 | | F | T | F |\n",
    "smoking_status | categorical | never smoked, unknown, formerly smoked, smokes | T | F | T |\n",
    "stroke | boolean | 0, 1 | T | F | F |"
   ]
  },
  {
   "cell_type": "code",
   "execution_count": null,
   "id": "funded-accident",
   "metadata": {},
   "outputs": [],
   "source": []
  }
 ],
 "metadata": {
  "kernelspec": {
   "display_name": "Python 3",
   "language": "python",
   "name": "python3"
  },
  "language_info": {
   "codemirror_mode": {
    "name": "ipython",
    "version": 3
   },
   "file_extension": ".py",
   "mimetype": "text/x-python",
   "name": "python",
   "nbconvert_exporter": "python",
   "pygments_lexer": "ipython3",
   "version": "3.7.3"
  }
 },
 "nbformat": 4,
 "nbformat_minor": 5
}
