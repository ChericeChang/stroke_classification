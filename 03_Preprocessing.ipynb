{
 "cells": [
  {
   "cell_type": "markdown",
   "id": "278d731f",
   "metadata": {},
   "source": [
    "### Stoke Prediction Dataset \n",
    "# Preprocessing\n",
    "\n",
    "Data source: https://www.kaggle.com/fedesoriano/stroke-prediction-dataset <br>\n",
    "Data updated date: 2021-01-26"
   ]
  },
  {
   "cell_type": "code",
   "execution_count": 1,
   "id": "9a56951b",
   "metadata": {},
   "outputs": [
    {
     "data": {
      "text/html": [
       "<style>.container { width:100% !important; }</style>"
      ],
      "text/plain": [
       "<IPython.core.display.HTML object>"
      ]
     },
     "metadata": {},
     "output_type": "display_data"
    }
   ],
   "source": [
    "# import libraries needed\n",
    "\n",
    "import pandas as pd\n",
    "import numpy as np\n",
    "\n",
    "# make notebook full width for better viewing\n",
    "\n",
    "from IPython.core.display import display, HTML\n",
    "display(HTML(\"<style>.container { width:100% !important; }</style>\"))"
   ]
  },
  {
   "cell_type": "code",
   "execution_count": 2,
   "id": "2399ae28",
   "metadata": {},
   "outputs": [],
   "source": [
    "# importing data\n",
    "df = pd.read_csv(r'data/stroke.csv', index_col='id')"
   ]
  },
  {
   "cell_type": "markdown",
   "id": "b3c6b5e1",
   "metadata": {},
   "source": [
    "# Data Metadescription\n",
    "\n",
    "| Feature | Data type | Other descriptions | Processing Needed? | Missing Value? | Encoding Needed? |\n",
    "| ------- | --------- | ------------------ | ----------------- | --------------- | ---------------- |\n",
    "gender | categorical | Female, Male, Other | T | T (Other) | T |\n",
    "age | float64 | | F | F | F |\n",
    "hypertension | categorical | 0, 1 | T | F | F |\n",
    "heart_disease | categorical | 0, 1| T | F | F |\n",
    "ever_married | categorical | 0, 1 | T | F | F |\n",
    "work_type | categorical | Private, Self-employed, children, Govt_job, Never_worked | T | F | T |\n",
    "residence_type | categorical | Rural, Urban | T | F | T |\n",
    "avg_glucose_level | float64 | | F | F | F |\n",
    "bmi | float64 | | F | T (replaced with mean) | F |\n",
    "smoking_status | categorical | never smoked, unknown, formerly smoked, smokes | T | T (unknown) | T |\n",
    "stroke | categorical | 0, 1 | T | F | F |"
   ]
  },
  {
   "cell_type": "markdown",
   "id": "d6be5f40",
   "metadata": {},
   "source": [
    "# 1. Separate df into numerical and categorical"
   ]
  },
  {
   "cell_type": "code",
   "execution_count": 3,
   "id": "88cefa56",
   "metadata": {},
   "outputs": [],
   "source": [
    "numerical = df.select_dtypes(include=['float64'])\n",
    "categorical = df.select_dtypes(exclude=['float64'])"
   ]
  },
  {
   "cell_type": "markdown",
   "id": "24e030d2",
   "metadata": {},
   "source": [
    "# 2. Binary Encoding\n",
    "\n",
    "Why Binary over one-hot:\n",
    "Main reason is to avoid multicolinearity. Though it might decrease interpretability later.\n",
    "\n",
    "for example: consider the column heart_disease is now one hot encoded as \"heart_disease: 0\" and \"heart_disease:1\". Someone with \"heart disease:0\" encoded True, implied that \"heart disease:1\" will be False. Since they are mutually exclusive.\n",
    "\n",
    "Thus, the columns below are encoded using binary encoding to avoid the problem above.\n",
    "- gender\n",
    "- hypertension\n",
    "- heart_disease\n",
    "- ever_married\n",
    "- work_type\n",
    "- residence_type\n",
    "- smoking_status\n",
    "- stroke"
   ]
  },
  {
   "cell_type": "code",
   "execution_count": 4,
   "id": "d9d8f3bc",
   "metadata": {},
   "outputs": [],
   "source": [
    "categorical_processed = pd.get_dummies(categorical, drop_first=True)"
   ]
  },
  {
   "cell_type": "code",
   "execution_count": 5,
   "id": "dd6af0f3",
   "metadata": {},
   "outputs": [
    {
     "data": {
      "text/html": [
       "<div>\n",
       "<style scoped>\n",
       "    .dataframe tbody tr th:only-of-type {\n",
       "        vertical-align: middle;\n",
       "    }\n",
       "\n",
       "    .dataframe tbody tr th {\n",
       "        vertical-align: top;\n",
       "    }\n",
       "\n",
       "    .dataframe thead th {\n",
       "        text-align: right;\n",
       "    }\n",
       "</style>\n",
       "<table border=\"1\" class=\"dataframe\">\n",
       "  <thead>\n",
       "    <tr style=\"text-align: right;\">\n",
       "      <th></th>\n",
       "      <th>gender</th>\n",
       "      <th>age</th>\n",
       "      <th>hypertension</th>\n",
       "      <th>heart_disease</th>\n",
       "      <th>ever_married</th>\n",
       "      <th>work_type</th>\n",
       "      <th>residence_type</th>\n",
       "      <th>avg_glucose_level</th>\n",
       "      <th>bmi</th>\n",
       "      <th>smoking_status</th>\n",
       "      <th>stroke</th>\n",
       "    </tr>\n",
       "    <tr>\n",
       "      <th>id</th>\n",
       "      <th></th>\n",
       "      <th></th>\n",
       "      <th></th>\n",
       "      <th></th>\n",
       "      <th></th>\n",
       "      <th></th>\n",
       "      <th></th>\n",
       "      <th></th>\n",
       "      <th></th>\n",
       "      <th></th>\n",
       "      <th></th>\n",
       "    </tr>\n",
       "  </thead>\n",
       "  <tbody>\n",
       "    <tr>\n",
       "      <th>9046</th>\n",
       "      <td>male</td>\n",
       "      <td>67.0</td>\n",
       "      <td>0</td>\n",
       "      <td>1</td>\n",
       "      <td>1</td>\n",
       "      <td>private</td>\n",
       "      <td>urban</td>\n",
       "      <td>228.69</td>\n",
       "      <td>36.600000</td>\n",
       "      <td>formerly smoked</td>\n",
       "      <td>1</td>\n",
       "    </tr>\n",
       "    <tr>\n",
       "      <th>51676</th>\n",
       "      <td>female</td>\n",
       "      <td>61.0</td>\n",
       "      <td>0</td>\n",
       "      <td>0</td>\n",
       "      <td>1</td>\n",
       "      <td>self-employed</td>\n",
       "      <td>rural</td>\n",
       "      <td>202.21</td>\n",
       "      <td>28.893237</td>\n",
       "      <td>never smoked</td>\n",
       "      <td>1</td>\n",
       "    </tr>\n",
       "  </tbody>\n",
       "</table>\n",
       "</div>"
      ],
      "text/plain": [
       "       gender   age  hypertension  heart_disease  ever_married      work_type  \\\n",
       "id                                                                              \n",
       "9046     male  67.0             0              1             1        private   \n",
       "51676  female  61.0             0              0             1  self-employed   \n",
       "\n",
       "      residence_type  avg_glucose_level        bmi   smoking_status  stroke  \n",
       "id                                                                           \n",
       "9046           urban             228.69  36.600000  formerly smoked       1  \n",
       "51676          rural             202.21  28.893237     never smoked       1  "
      ]
     },
     "execution_count": 5,
     "metadata": {},
     "output_type": "execute_result"
    }
   ],
   "source": [
    "# double checking the first 2 rows\n",
    "df.head(2)"
   ]
  },
  {
   "cell_type": "code",
   "execution_count": 6,
   "id": "d0b0f9ea",
   "metadata": {},
   "outputs": [
    {
     "data": {
      "text/html": [
       "<div>\n",
       "<style scoped>\n",
       "    .dataframe tbody tr th:only-of-type {\n",
       "        vertical-align: middle;\n",
       "    }\n",
       "\n",
       "    .dataframe tbody tr th {\n",
       "        vertical-align: top;\n",
       "    }\n",
       "\n",
       "    .dataframe thead th {\n",
       "        text-align: right;\n",
       "    }\n",
       "</style>\n",
       "<table border=\"1\" class=\"dataframe\">\n",
       "  <thead>\n",
       "    <tr style=\"text-align: right;\">\n",
       "      <th></th>\n",
       "      <th>hypertension</th>\n",
       "      <th>heart_disease</th>\n",
       "      <th>ever_married</th>\n",
       "      <th>stroke</th>\n",
       "      <th>gender_male</th>\n",
       "      <th>gender_other</th>\n",
       "      <th>work_type_govt_job</th>\n",
       "      <th>work_type_never_worked</th>\n",
       "      <th>work_type_private</th>\n",
       "      <th>work_type_self-employed</th>\n",
       "      <th>residence_type_urban</th>\n",
       "      <th>smoking_status_never smoked</th>\n",
       "      <th>smoking_status_smokes</th>\n",
       "      <th>smoking_status_unknown</th>\n",
       "    </tr>\n",
       "    <tr>\n",
       "      <th>id</th>\n",
       "      <th></th>\n",
       "      <th></th>\n",
       "      <th></th>\n",
       "      <th></th>\n",
       "      <th></th>\n",
       "      <th></th>\n",
       "      <th></th>\n",
       "      <th></th>\n",
       "      <th></th>\n",
       "      <th></th>\n",
       "      <th></th>\n",
       "      <th></th>\n",
       "      <th></th>\n",
       "      <th></th>\n",
       "    </tr>\n",
       "  </thead>\n",
       "  <tbody>\n",
       "    <tr>\n",
       "      <th>9046</th>\n",
       "      <td>0</td>\n",
       "      <td>1</td>\n",
       "      <td>1</td>\n",
       "      <td>1</td>\n",
       "      <td>1</td>\n",
       "      <td>0</td>\n",
       "      <td>0</td>\n",
       "      <td>0</td>\n",
       "      <td>1</td>\n",
       "      <td>0</td>\n",
       "      <td>1</td>\n",
       "      <td>0</td>\n",
       "      <td>0</td>\n",
       "      <td>0</td>\n",
       "    </tr>\n",
       "    <tr>\n",
       "      <th>51676</th>\n",
       "      <td>0</td>\n",
       "      <td>0</td>\n",
       "      <td>1</td>\n",
       "      <td>1</td>\n",
       "      <td>0</td>\n",
       "      <td>0</td>\n",
       "      <td>0</td>\n",
       "      <td>0</td>\n",
       "      <td>0</td>\n",
       "      <td>1</td>\n",
       "      <td>0</td>\n",
       "      <td>1</td>\n",
       "      <td>0</td>\n",
       "      <td>0</td>\n",
       "    </tr>\n",
       "  </tbody>\n",
       "</table>\n",
       "</div>"
      ],
      "text/plain": [
       "       hypertension  heart_disease  ever_married  stroke  gender_male  \\\n",
       "id                                                                      \n",
       "9046              0              1             1       1            1   \n",
       "51676             0              0             1       1            0   \n",
       "\n",
       "       gender_other  work_type_govt_job  work_type_never_worked  \\\n",
       "id                                                                \n",
       "9046              0                   0                       0   \n",
       "51676             0                   0                       0   \n",
       "\n",
       "       work_type_private  work_type_self-employed  residence_type_urban  \\\n",
       "id                                                                        \n",
       "9046                   1                        0                     1   \n",
       "51676                  0                        1                     0   \n",
       "\n",
       "       smoking_status_never smoked  smoking_status_smokes  \\\n",
       "id                                                          \n",
       "9046                             0                      0   \n",
       "51676                            1                      0   \n",
       "\n",
       "       smoking_status_unknown  \n",
       "id                             \n",
       "9046                        0  \n",
       "51676                       0  "
      ]
     },
     "execution_count": 6,
     "metadata": {},
     "output_type": "execute_result"
    }
   ],
   "source": [
    "categorical_processed.head(2)"
   ]
  },
  {
   "cell_type": "markdown",
   "id": "35f24e4c",
   "metadata": {},
   "source": [
    "# 3. Create a processed dataframe that includes the encoding above."
   ]
  },
  {
   "cell_type": "code",
   "execution_count": 7,
   "id": "b438273a",
   "metadata": {},
   "outputs": [
    {
     "data": {
      "text/plain": [
       "(5110, 11)"
      ]
     },
     "execution_count": 7,
     "metadata": {},
     "output_type": "execute_result"
    }
   ],
   "source": [
    "df.shape"
   ]
  },
  {
   "cell_type": "code",
   "execution_count": 8,
   "id": "be768414",
   "metadata": {},
   "outputs": [],
   "source": [
    "df = pd.concat([numerical, categorical_processed], axis=1)"
   ]
  },
  {
   "cell_type": "markdown",
   "id": "49e216e8",
   "metadata": {},
   "source": [
    "# 4. Train test split\n",
    "- Train data for SMOTE\n",
    "- Test data without SMOTE treatment"
   ]
  },
  {
   "cell_type": "code",
   "execution_count": 9,
   "id": "fe75a20f",
   "metadata": {},
   "outputs": [],
   "source": [
    "y = df['stroke']\n",
    "X = df.drop(['stroke'], axis=1)"
   ]
  },
  {
   "cell_type": "code",
   "execution_count": 10,
   "id": "c084bf3b",
   "metadata": {},
   "outputs": [],
   "source": [
    "from sklearn.model_selection import train_test_split\n",
    "\n",
    "X_train, X_test, y_train, y_test = train_test_split(X,y, test_size=0.3)"
   ]
  },
  {
   "cell_type": "code",
   "execution_count": 11,
   "id": "c66760a2",
   "metadata": {},
   "outputs": [
    {
     "name": "stdout",
     "output_type": "stream",
     "text": [
      "(3577, 16)\n",
      "(3577,)\n",
      "(1533, 16)\n",
      "(1533,)\n"
     ]
    }
   ],
   "source": [
    "print(X_train.shape)\n",
    "print(y_train.shape)\n",
    "print(X_test.shape)\n",
    "print(y_test.shape)"
   ]
  },
  {
   "cell_type": "markdown",
   "id": "3663657b",
   "metadata": {},
   "source": [
    "# 5. SMOTE for training dataset"
   ]
  },
  {
   "cell_type": "code",
   "execution_count": 12,
   "id": "b2f1884c",
   "metadata": {},
   "outputs": [
    {
     "data": {
      "text/plain": [
       "0    4861\n",
       "1     249\n",
       "Name: stroke, dtype: int64"
      ]
     },
     "execution_count": 12,
     "metadata": {},
     "output_type": "execute_result"
    }
   ],
   "source": [
    "df['stroke'].value_counts()"
   ]
  },
  {
   "cell_type": "code",
   "execution_count": 13,
   "id": "8db195c8",
   "metadata": {},
   "outputs": [],
   "source": [
    "from imblearn.over_sampling import SMOTE\n",
    "from collections import Counter"
   ]
  },
  {
   "cell_type": "code",
   "execution_count": 14,
   "id": "78e0cd5f",
   "metadata": {},
   "outputs": [],
   "source": [
    "# model for SMOTE\n",
    "oversample = SMOTE()\n",
    "\n",
    "# fit the SMOTE model over the training set\n",
    "X_train, y_train = oversample.fit_resample(X_train, y_train)"
   ]
  },
  {
   "cell_type": "code",
   "execution_count": 15,
   "id": "0ec89ca2",
   "metadata": {},
   "outputs": [
    {
     "name": "stdout",
     "output_type": "stream",
     "text": [
      "Counter({0: 3412, 1: 3412})\n"
     ]
    }
   ],
   "source": [
    "counter = Counter(y_train)\n",
    "print(counter)"
   ]
  },
  {
   "cell_type": "markdown",
   "id": "70c781a8",
   "metadata": {},
   "source": [
    "# 6. Numerical standardization\n",
    "\n",
    "Note: this step is done after train test split so that we're just fitting the standardscaler with training data, and transforming both X_train and X_train.\n",
    "\n",
    "#### why standard scaler?\n",
    "\n",
    "StandardScaler follows Standard Normal Distribution (SND). Therefore, it makes mean = 0 and scales the data to unit variance. \n",
    "\n",
    "MinMaxScaler scales all the data features in the range [0, 1] or else in the range [-1, 1] if there are negative values in the dataset. This scaling compresses all the inliers in the narrow range [0, 0.005].\n",
    "\n",
    "In the presence of outliers, StandardScaler does not guarantee balanced feature scales, due to the influence of the outliers while computing the empirical mean and standard deviation. \n",
    "\n",
    "#### Our dataset does contains outliers, so more advanced standardization technique should be explored for optimization.\n",
    "\n",
    "- age: no outliers\n",
    "- avg_glucose_level: outliers (both ends)\n",
    "- bmi: outliers (especially the obese end)"
   ]
  },
  {
   "cell_type": "code",
   "execution_count": 16,
   "id": "5875ba9e",
   "metadata": {},
   "outputs": [],
   "source": [
    "# get only the numerical values in the X_train and X_test datasets\n",
    "\n",
    "X_train_numerical = X_train.select_dtypes(include=['float64'])\n",
    "X_test_numerical = X_test.select_dtypes(include=['float64'])\n",
    "columnnames_numerical = list(X_train_numerical.columns)"
   ]
  },
  {
   "cell_type": "code",
   "execution_count": 17,
   "id": "c7d9065b",
   "metadata": {},
   "outputs": [],
   "source": [
    "# build the model for standard scaler\n",
    "from sklearn.preprocessing import StandardScaler\n",
    "scaler = StandardScaler()\n",
    "\n",
    "# fit the scaler to train data\n",
    "# note: this is only fitted to the X_train dataset to make sure data is cross validated.\n",
    "scaler.fit(X_train_numerical)\n",
    "\n",
    "# transform both X_train and X_test\n",
    "X_train_numerical = scaler.transform(X_train_numerical)\n",
    "X_test_numerical = scaler.transform(X_test_numerical)"
   ]
  },
  {
   "cell_type": "code",
   "execution_count": 18,
   "id": "41ecec52",
   "metadata": {},
   "outputs": [],
   "source": [
    "X_train_numerical = pd.DataFrame(X_train_numerical, columns=columnnames_numerical, index=X_train.index)\n",
    "X_test_numerical = pd.DataFrame(X_test_numerical, columns=columnnames_numerical, index=X_test.index)"
   ]
  },
  {
   "cell_type": "markdown",
   "id": "6bbde012",
   "metadata": {},
   "source": [
    "# 7. Create preprocessed dataframes (training and testing datasets)"
   ]
  },
  {
   "cell_type": "code",
   "execution_count": 19,
   "id": "24b0ccf6",
   "metadata": {},
   "outputs": [],
   "source": [
    "# create dataframes of X_train and X_test categorical dtypes\n",
    "X_train_categorical = X_train.select_dtypes(exclude=['float64'])\n",
    "X_test_categorical = X_test.select_dtypes(exclude=['float64'])"
   ]
  },
  {
   "cell_type": "code",
   "execution_count": 20,
   "id": "341ea9fa",
   "metadata": {},
   "outputs": [
    {
     "name": "stdout",
     "output_type": "stream",
     "text": [
      "The processed training dataset contains 6824 rows and 16 features\n",
      "The processed testing dataset contains 1533 rows and 16 features\n"
     ]
    }
   ],
   "source": [
    "# concat both numerical and categorical data types together to form the new Xs.\n",
    "X_train = pd.concat([X_train_numerical, X_train_categorical], axis=1)\n",
    "X_test = pd.concat([X_test_numerical, X_test_categorical], axis=1)\n",
    "\n",
    "print('The processed training dataset contains {} rows and {} features'.format(X_train.shape[0], X_train.shape[1]))\n",
    "print('The processed testing dataset contains {} rows and {} features'.format(X_test.shape[0], X_test.shape[1]))"
   ]
  },
  {
   "cell_type": "code",
   "execution_count": 21,
   "id": "da48b610",
   "metadata": {},
   "outputs": [
    {
     "name": "stdout",
     "output_type": "stream",
     "text": [
      "Training dataset: There are 3412 number of people who has stroke and 3412 number of people with no stroke.\n",
      "Testing dataset: There are 84 number of people who has stroke and 1449 number of people with no stroke.\n"
     ]
    }
   ],
   "source": [
    "y_tr_stroke = 0\n",
    "y_tr_nostroke = 0\n",
    "y_te_stroke = 0\n",
    "y_te_nostroke = 0\n",
    "\n",
    "# loop through all values check how many stroke there are.\n",
    "## for y_train\n",
    "for y in y_train:\n",
    "    if y ==1:\n",
    "        y_tr_stroke = y_tr_stroke+1\n",
    "    else:\n",
    "        y_tr_nostroke = y_tr_nostroke+1\n",
    "\n",
    "## for y_test\n",
    "for y in y_test:\n",
    "    if y ==1:\n",
    "        y_te_stroke = y_te_stroke+1\n",
    "    else:\n",
    "        y_te_nostroke = y_te_nostroke+1\n",
    "\n",
    "print('Training dataset: There are {} number of people who has stroke and {} number of people with no stroke.'.format(y_tr_stroke, y_tr_nostroke))\n",
    "print('Testing dataset: There are {} number of people who has stroke and {} number of people with no stroke.'.format(y_te_stroke, y_te_nostroke))"
   ]
  },
  {
   "cell_type": "markdown",
   "id": "50354f80",
   "metadata": {},
   "source": [
    "# 8. Export the data"
   ]
  },
  {
   "cell_type": "code",
   "execution_count": 22,
   "id": "ca0a0ef2",
   "metadata": {},
   "outputs": [],
   "source": [
    "X_train.to_csv('data/X_train.csv')\n",
    "X_test.to_csv('data/X_test.csv')\n",
    "\n",
    "y_train.to_csv('data/y_train.csv')\n",
    "y_test.to_csv('data/y_test.csv')"
   ]
  }
 ],
 "metadata": {
  "kernelspec": {
   "display_name": "Python 3 (ipykernel)",
   "language": "python",
   "name": "python3"
  },
  "language_info": {
   "codemirror_mode": {
    "name": "ipython",
    "version": 3
   },
   "file_extension": ".py",
   "mimetype": "text/x-python",
   "name": "python",
   "nbconvert_exporter": "python",
   "pygments_lexer": "ipython3",
   "version": "3.7.10"
  }
 },
 "nbformat": 4,
 "nbformat_minor": 5
}
