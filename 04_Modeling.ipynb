{
 "cells": [
  {
   "cell_type": "markdown",
   "id": "9f0519af",
   "metadata": {},
   "source": [
    "### Stoke Prediction Dataset \n",
    "# Modeling\n",
    "\n",
    "Data source: https://www.kaggle.com/fedesoriano/stroke-prediction-dataset <br>\n",
    "Data updated date: 2021-01-26\n",
    "\n",
    "#### Supervised Learning: Classification model to predict a binary outcome\n",
    "Outcome:\n",
    "- 0: no stroke\n",
    "- 1: stroke\n",
    "\n",
    "Here are the different types of learning that we will implore for out prediction.\n",
    "- Decision Tree Classifer\n",
    "- Logistic Regression\n",
    "- Random Forest\n",
    "- AdaBoost Classifer\n",
    "- XGBoost Classifer\n",
    "- SVM Classifer\n",
    "\n",
    "Model Evaluation:\n",
    "- Confusion Matrix: Maximize True Positive rate, minimize False Nagative rate.\n",
    "- Recall for stroke\n",
    "![title](img/ConfusionMatrix.ppm)\n",
    "- Balanced accuracy\n",
    "![title](img/Balanced-accuracy-formula.png)"
   ]
  },
  {
   "cell_type": "markdown",
   "id": "0a3668a5",
   "metadata": {},
   "source": [
    "# 0. Sourcing, Loading, and Evaluation Model"
   ]
  },
  {
   "cell_type": "code",
   "execution_count": 1,
   "id": "aa96cd34",
   "metadata": {},
   "outputs": [
    {
     "data": {
      "text/html": [
       "<style>.container { width:100% !important; }</style>"
      ],
      "text/plain": [
       "<IPython.core.display.HTML object>"
      ]
     },
     "metadata": {},
     "output_type": "display_data"
    }
   ],
   "source": [
    "# import packagas\n",
    "\n",
    "import pandas as pd\n",
    "import numpy as np\n",
    "from sklearn.metrics import recall_score, balanced_accuracy_score, confusion_matrix, classification_report\n",
    "\n",
    "# make notebook full width for better viewing\n",
    "\n",
    "from IPython.core.display import display, HTML\n",
    "display(HTML(\"<style>.container { width:100% !important; }</style>\"))"
   ]
  },
  {
   "cell_type": "code",
   "execution_count": 2,
   "id": "cd8a4401",
   "metadata": {},
   "outputs": [],
   "source": [
    "# load data\n",
    "\n",
    "X_train = pd.read_csv('data/X_train.csv', index_col=0)\n",
    "X_test = pd.read_csv('data/X_test.csv', index_col=0)\n",
    "\n",
    "y_train = pd.read_csv('data/y_train.csv', index_col=0)\n",
    "y_test = pd.read_csv('data/y_test.csv', index_col=0)"
   ]
  },
  {
   "cell_type": "code",
   "execution_count": 3,
   "id": "38953e0e",
   "metadata": {},
   "outputs": [],
   "source": [
    "# create an evaluation model that print its performance\n",
    "\n",
    "def evaluation(y_pred, y_test):\n",
    "    # confusion matrix\n",
    "    tn, fp, fn, tp = confusion_matrix(y_test,y_pred,labels=[1,0]).reshape(-1)\n",
    "    print('Outcome values : tp:{}, fn:{}, fn:{}, tn:{}'.format(tp, fn, fp, tn))\n",
    "\n",
    "    # model evaluation metrics - recall\n",
    "    print('\\nRecall score for \"No Stroke\": ' , round(recall_score(y_test,y_pred, pos_label = 0),2))\n",
    "    print('Recall score for \"Stroke\": ' , round(recall_score(y_test,y_pred, pos_label = 1), 2))\n",
    "\n",
    "    # classification report for precision, recall f1-score and accuracy\n",
    "    matrix = classification_report(y_test, y_pred, target_names=['No Stroke', 'Stroke'])\n",
    "    print('\\nClassification report : \\n',matrix)\n",
    "\n",
    "    # model evaluation metrics - accuracy\n",
    "    print(\"Balanced accuracy:\", round(balanced_accuracy_score(y_test,y_pred),2))"
   ]
  },
  {
   "cell_type": "markdown",
   "id": "5af3a8ec",
   "metadata": {},
   "source": [
    "# 1. Decision Tree"
   ]
  },
  {
   "cell_type": "code",
   "execution_count": 4,
   "id": "d6ee02f0",
   "metadata": {},
   "outputs": [],
   "source": [
    "# import tree model\n",
    "from sklearn.tree import DecisionTreeClassifier\n",
    "\n",
    "# create the model\n",
    "dt_model = DecisionTreeClassifier()\n",
    "\n",
    "# fit the data\n",
    "dt_model.fit(X_train, y_train)\n",
    "\n",
    "# make prediction\n",
    "y_pred = dt_model.predict(X_test)"
   ]
  },
  {
   "cell_type": "code",
   "execution_count": 5,
   "id": "1d52b026",
   "metadata": {},
   "outputs": [
    {
     "name": "stdout",
     "output_type": "stream",
     "text": [
      "Outcome values : tp:1394, fn:58, fn:66, tn:15\n",
      "\n",
      "Recall score for \"No Stroke\":  0.96\n",
      "Recall score for \"Stroke\":  0.19\n",
      "\n",
      "Classification report : \n",
      "               precision    recall  f1-score   support\n",
      "\n",
      "   No Stroke       0.95      0.96      0.96      1452\n",
      "      Stroke       0.21      0.19      0.19        81\n",
      "\n",
      "    accuracy                           0.92      1533\n",
      "   macro avg       0.58      0.57      0.58      1533\n",
      "weighted avg       0.92      0.92      0.92      1533\n",
      "\n",
      "Balanced accuracy: 0.57\n"
     ]
    }
   ],
   "source": [
    "# print model performance\n",
    "evaluation(y_pred, y_test)"
   ]
  },
  {
   "cell_type": "markdown",
   "id": "b84a766e",
   "metadata": {},
   "source": [
    "# 2. Logistic Regression"
   ]
  },
  {
   "cell_type": "code",
   "execution_count": 6,
   "id": "d1a0036c",
   "metadata": {},
   "outputs": [
    {
     "name": "stderr",
     "output_type": "stream",
     "text": [
      "C:\\ProgramData\\Miniconda3\\lib\\site-packages\\sklearn\\utils\\validation.py:72: DataConversionWarning: A column-vector y was passed when a 1d array was expected. Please change the shape of y to (n_samples, ), for example using ravel().\n",
      "  return f(**kwargs)\n"
     ]
    }
   ],
   "source": [
    "#import model\n",
    "from sklearn.linear_model import LogisticRegression\n",
    "\n",
    "# create the model\n",
    "lr_model = LogisticRegression()\n",
    "\n",
    "# fit the model\n",
    "lr_model.fit(X_train, y_train)\n",
    "\n",
    "# make prediction\n",
    "y_pred = lr_model.predict(X_test)"
   ]
  },
  {
   "cell_type": "code",
   "execution_count": 7,
   "id": "d5365fce",
   "metadata": {},
   "outputs": [
    {
     "name": "stdout",
     "output_type": "stream",
     "text": [
      "Outcome values : tp:1451, fn:1, fn:81, tn:0\n",
      "\n",
      "Recall score for \"No Stroke\":  1.0\n",
      "Recall score for \"Stroke\":  0.0\n",
      "\n",
      "Classification report : \n",
      "               precision    recall  f1-score   support\n",
      "\n",
      "   No Stroke       0.95      1.00      0.97      1452\n",
      "      Stroke       0.00      0.00      0.00        81\n",
      "\n",
      "    accuracy                           0.95      1533\n",
      "   macro avg       0.47      0.50      0.49      1533\n",
      "weighted avg       0.90      0.95      0.92      1533\n",
      "\n",
      "Balanced accuracy: 0.5\n"
     ]
    }
   ],
   "source": [
    "# print model performance\n",
    "evaluation(y_pred, y_test)"
   ]
  },
  {
   "cell_type": "markdown",
   "id": "c4a9c55c",
   "metadata": {},
   "source": [
    "### Feature importance in Logistic Regression"
   ]
  },
  {
   "cell_type": "code",
   "execution_count": 8,
   "id": "d73a7688",
   "metadata": {},
   "outputs": [
    {
     "name": "stdout",
     "output_type": "stream",
     "text": [
      "[1.5477730981286286, 0.23199879756941053, 0.03134308939892663, 0.3980515436231587, 0.31108743679060175, 0.0030237489741253266, 0.019673502089336783, 0.0, 0.16477366779621755, 0.036046173169635806, 0.20977405311416095, 0.5749300205501592, 0.19141722602389824, 0.25009878530617397, 0.15237428056429733, 0.08458649566589704]\n"
     ]
    }
   ],
   "source": [
    "coef = lr_model.coef_[0]\n",
    "coef = [abs(number) for number in coef]\n",
    "print(coef)\n",
    "\n",
    "cols = list(X_train.columns)"
   ]
  },
  {
   "cell_type": "code",
   "execution_count": 9,
   "id": "aaf68257",
   "metadata": {},
   "outputs": [
    {
     "name": "stdout",
     "output_type": "stream",
     "text": [
      "age\n",
      "work_type_self-employed\n",
      "hypertension\n",
      "heart_disease\n",
      "smoking_status_never smoked\n",
      "avg_glucose_level\n",
      "work_type_private\n",
      "residence_type_urban\n",
      "work_type_govt_job\n",
      "smoking_status_smokes\n",
      "smoking_status_unknown\n",
      "work_type_never_worked\n",
      "bmi\n",
      "gender_male\n",
      "ever_married\n",
      "gender_other\n"
     ]
    }
   ],
   "source": [
    "sorted_index = sorted(range(len(coef)), key = lambda k: coef[k], reverse = True)\n",
    "for idx in sorted_index:\n",
    "    print(cols[idx])"
   ]
  },
  {
   "cell_type": "markdown",
   "id": "bd532cdf",
   "metadata": {},
   "source": [
    "# 3. Random Forest"
   ]
  },
  {
   "cell_type": "code",
   "execution_count": 10,
   "id": "20ec4864",
   "metadata": {},
   "outputs": [
    {
     "name": "stderr",
     "output_type": "stream",
     "text": [
      "C:\\ProgramData\\Miniconda3\\lib\\site-packages\\ipykernel_launcher.py:8: DataConversionWarning: A column-vector y was passed when a 1d array was expected. Please change the shape of y to (n_samples,), for example using ravel().\n",
      "  \n"
     ]
    }
   ],
   "source": [
    "# import model\n",
    "from sklearn.ensemble import RandomForestClassifier\n",
    "\n",
    "# create the model\n",
    "rf_model = RandomForestClassifier()\n",
    "\n",
    "# fit the model\n",
    "rf_model.fit(X_train, y_train)\n",
    "\n",
    "# make prediction\n",
    "y_pred = rf_model.predict(X_test)"
   ]
  },
  {
   "cell_type": "code",
   "execution_count": 11,
   "id": "b01d7a0a",
   "metadata": {},
   "outputs": [
    {
     "name": "stdout",
     "output_type": "stream",
     "text": [
      "Outcome values : tp:1448, fn:4, fn:80, tn:1\n",
      "\n",
      "Recall score for \"No Stroke\":  1.0\n",
      "Recall score for \"Stroke\":  0.01\n",
      "\n",
      "Classification report : \n",
      "               precision    recall  f1-score   support\n",
      "\n",
      "   No Stroke       0.95      1.00      0.97      1452\n",
      "      Stroke       0.20      0.01      0.02        81\n",
      "\n",
      "    accuracy                           0.95      1533\n",
      "   macro avg       0.57      0.50      0.50      1533\n",
      "weighted avg       0.91      0.95      0.92      1533\n",
      "\n",
      "Balanced accuracy: 0.5\n"
     ]
    }
   ],
   "source": [
    "# print model performance\n",
    "evaluation(y_pred, y_test)"
   ]
  },
  {
   "cell_type": "markdown",
   "id": "ce6ecc2e",
   "metadata": {},
   "source": [
    "# 4. Adaboost Classification"
   ]
  },
  {
   "cell_type": "code",
   "execution_count": 12,
   "id": "0135d392",
   "metadata": {},
   "outputs": [
    {
     "name": "stderr",
     "output_type": "stream",
     "text": [
      "C:\\ProgramData\\Miniconda3\\lib\\site-packages\\sklearn\\utils\\validation.py:72: DataConversionWarning: A column-vector y was passed when a 1d array was expected. Please change the shape of y to (n_samples, ), for example using ravel().\n",
      "  return f(**kwargs)\n"
     ]
    }
   ],
   "source": [
    "# import the model\n",
    "from sklearn.ensemble import AdaBoostClassifier\n",
    "\n",
    "# create the model\n",
    "ab_model = AdaBoostClassifier(base_estimator=DecisionTreeClassifier(), n_estimators=100, \n",
    "                            learning_rate=0.5, random_state=100)\n",
    "\n",
    "# fit the model\n",
    "ab_model.fit(X_train, y_train)\n",
    "\n",
    "# make prediction\n",
    "y_pred = ab_model.predict(X_test)"
   ]
  },
  {
   "cell_type": "code",
   "execution_count": 13,
   "id": "737c6aad",
   "metadata": {},
   "outputs": [
    {
     "name": "stdout",
     "output_type": "stream",
     "text": [
      "Outcome values : tp:1397, fn:55, fn:68, tn:13\n",
      "\n",
      "Recall score for \"No Stroke\":  0.96\n",
      "Recall score for \"Stroke\":  0.16\n",
      "\n",
      "Classification report : \n",
      "               precision    recall  f1-score   support\n",
      "\n",
      "   No Stroke       0.95      0.96      0.96      1452\n",
      "      Stroke       0.19      0.16      0.17        81\n",
      "\n",
      "    accuracy                           0.92      1533\n",
      "   macro avg       0.57      0.56      0.57      1533\n",
      "weighted avg       0.91      0.92      0.92      1533\n",
      "\n",
      "Balanced accuracy: 0.56\n"
     ]
    }
   ],
   "source": [
    "# print model performance\n",
    "evaluation(y_pred, y_test)"
   ]
  },
  {
   "cell_type": "markdown",
   "id": "052b11b9",
   "metadata": {},
   "source": [
    "# 5. XGboost"
   ]
  },
  {
   "cell_type": "code",
   "execution_count": 14,
   "id": "821d4024",
   "metadata": {},
   "outputs": [
    {
     "name": "stderr",
     "output_type": "stream",
     "text": [
      "C:\\ProgramData\\Miniconda3\\lib\\site-packages\\sklearn\\utils\\validation.py:72: DataConversionWarning: A column-vector y was passed when a 1d array was expected. Please change the shape of y to (n_samples, ), for example using ravel().\n",
      "  return f(**kwargs)\n"
     ]
    }
   ],
   "source": [
    "from sklearn.ensemble import GradientBoostingClassifier\n",
    "\n",
    "xg_model = GradientBoostingClassifier()\n",
    "xg_model.fit(X_train, y_train)\n",
    "\n",
    "y_pred = xg_model.predict(X_test)"
   ]
  },
  {
   "cell_type": "code",
   "execution_count": 15,
   "id": "2f37f97e",
   "metadata": {},
   "outputs": [
    {
     "name": "stdout",
     "output_type": "stream",
     "text": [
      "Outcome values : tp:1446, fn:6, fn:80, tn:1\n",
      "\n",
      "Recall score for \"No Stroke\":  1.0\n",
      "Recall score for \"Stroke\":  0.01\n",
      "\n",
      "Classification report : \n",
      "               precision    recall  f1-score   support\n",
      "\n",
      "   No Stroke       0.95      1.00      0.97      1452\n",
      "      Stroke       0.14      0.01      0.02        81\n",
      "\n",
      "    accuracy                           0.94      1533\n",
      "   macro avg       0.55      0.50      0.50      1533\n",
      "weighted avg       0.91      0.94      0.92      1533\n",
      "\n",
      "Balanced accuracy: 0.5\n"
     ]
    }
   ],
   "source": [
    "# print model performance\n",
    "evaluation(y_pred, y_test)"
   ]
  },
  {
   "cell_type": "markdown",
   "id": "f6db5243",
   "metadata": {},
   "source": [
    "# 6. SVM"
   ]
  },
  {
   "cell_type": "code",
   "execution_count": 16,
   "id": "2eef10be",
   "metadata": {},
   "outputs": [
    {
     "name": "stderr",
     "output_type": "stream",
     "text": [
      "C:\\ProgramData\\Miniconda3\\lib\\site-packages\\sklearn\\utils\\validation.py:72: DataConversionWarning: A column-vector y was passed when a 1d array was expected. Please change the shape of y to (n_samples, ), for example using ravel().\n",
      "  return f(**kwargs)\n"
     ]
    }
   ],
   "source": [
    "# import model\n",
    "from sklearn.svm import SVC\n",
    "\n",
    "# create the model\n",
    "sv_model = SVC()\n",
    "\n",
    "# fit the model\n",
    "sv_model.fit(X_train, y_train)\n",
    "\n",
    "# make prediction on test dataset\n",
    "y_pred = sv_model.predict(X_test)"
   ]
  },
  {
   "cell_type": "code",
   "execution_count": 17,
   "id": "a3fb5b00",
   "metadata": {},
   "outputs": [
    {
     "name": "stdout",
     "output_type": "stream",
     "text": [
      "Outcome values : tp:1452, fn:0, fn:81, tn:0\n",
      "\n",
      "Recall score for \"No Stroke\":  1.0\n",
      "Recall score for \"Stroke\":  0.0\n",
      "\n",
      "Classification report : \n",
      "               precision    recall  f1-score   support\n",
      "\n",
      "   No Stroke       0.95      1.00      0.97      1452\n",
      "      Stroke       0.00      0.00      0.00        81\n",
      "\n",
      "    accuracy                           0.95      1533\n",
      "   macro avg       0.47      0.50      0.49      1533\n",
      "weighted avg       0.90      0.95      0.92      1533\n",
      "\n",
      "Balanced accuracy: 0.5\n"
     ]
    },
    {
     "name": "stderr",
     "output_type": "stream",
     "text": [
      "C:\\ProgramData\\Miniconda3\\lib\\site-packages\\sklearn\\metrics\\_classification.py:1221: UndefinedMetricWarning: Precision and F-score are ill-defined and being set to 0.0 in labels with no predicted samples. Use `zero_division` parameter to control this behavior.\n",
      "  _warn_prf(average, modifier, msg_start, len(result))\n"
     ]
    }
   ],
   "source": [
    "# print model performance\n",
    "evaluation(y_pred, y_test)"
   ]
  },
  {
   "cell_type": "markdown",
   "id": "dfcd92bc",
   "metadata": {},
   "source": [
    "# Conclusion:\n",
    "\n",
    "All performed badly on the test data, most likely due to the nature of imbalanced dataset.\n",
    "\n",
    "If we make a rough guess that half of the people will get stroke, we will get the following confusion matrix:<br>\n",
    "tp: 28<br>\n",
    "fp: 739 <br>\n",
    "tn: 732<br>\n",
    "fn: 35<br>\n",
    "\n",
    "making the recall score 0.44, higher than these models above. (Decision tree: 0.17; Logistic regression: 0, Random forest: 0)\n",
    "\n",
    "### Optimization suggestion.\n",
    "\n",
    "1. Implement SMOTE for imbalanced data (oversample the stroke data) and undersample the non-stroke data.<br>\n",
    "https://machinelearningmastery.com/smote-oversampling-for-imbalanced-classification/\n",
    "\n",
    "2. Use Cross Validation, Grid Search, and Random Search to tune the hyperparameter.\n",
    "\n",
    "3. Get more features and data."
   ]
  }
 ],
 "metadata": {
  "kernelspec": {
   "display_name": "Python 3 (ipykernel)",
   "language": "python",
   "name": "python3"
  },
  "language_info": {
   "codemirror_mode": {
    "name": "ipython",
    "version": 3
   },
   "file_extension": ".py",
   "mimetype": "text/x-python",
   "name": "python",
   "nbconvert_exporter": "python",
   "pygments_lexer": "ipython3",
   "version": "3.7.10"
  }
 },
 "nbformat": 4,
 "nbformat_minor": 5
}
