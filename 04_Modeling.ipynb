{
 "cells": [
  {
   "cell_type": "markdown",
   "id": "9f0519af",
   "metadata": {},
   "source": [
    "### Stoke Prediction Dataset \n",
    "# Modeling\n",
    "\n",
    "Data source: https://www.kaggle.com/fedesoriano/stroke-prediction-dataset <br>\n",
    "Data updated date: 2021-01-26\n",
    "\n",
    "#### Supervised Learning: Classification model to predict a binary outcome\n",
    "Outcome:\n",
    "- 0: no stroke\n",
    "- 1: stroke\n",
    "\n",
    "Here are the different types of learning that we will implore for out prediction.\n",
    "- Decision Tree\n",
    "- Logistic Regression\n",
    "- Random Forest\n",
    "\n",
    "Model Evaluation:\n",
    "- Confusion Matrix: Maximize True Positive rate, minimize False Nagative rate.\n",
    "- Recall for stroke\n",
    "![title](img/ConfusionMatrix.ppm)\n",
    "- Balanced accuracy\n",
    "![title](img/Balanced-accuracy-formula.png)"
   ]
  },
  {
   "cell_type": "markdown",
   "id": "0a3668a5",
   "metadata": {},
   "source": [
    "# 0. Sourcing and Loading"
   ]
  },
  {
   "cell_type": "code",
   "execution_count": 2,
   "id": "aa96cd34",
   "metadata": {},
   "outputs": [
    {
     "data": {
      "text/html": [
       "<style>.container { width:100% !important; }</style>"
      ],
      "text/plain": [
       "<IPython.core.display.HTML object>"
      ]
     },
     "metadata": {},
     "output_type": "display_data"
    }
   ],
   "source": [
    "# import packagas\n",
    "\n",
    "import pandas as pd\n",
    "import numpy as np\n",
    "from sklearn import metrics\n",
    "\n",
    "# make notebook full width for better viewing\n",
    "\n",
    "from IPython.core.display import display, HTML\n",
    "display(HTML(\"<style>.container { width:100% !important; }</style>\"))"
   ]
  },
  {
   "cell_type": "code",
   "execution_count": 3,
   "id": "cd8a4401",
   "metadata": {},
   "outputs": [],
   "source": [
    "# load data\n",
    "\n",
    "X_train = pd.read_csv('data/X_train.csv', index_col=0)\n",
    "X_test = pd.read_csv('data/X_test.csv', index_col=0)\n",
    "\n",
    "y_train = pd.read_csv('data/y_train.csv', index_col=0)\n",
    "y_test = pd.read_csv('data/y_test.csv', index_col=0)"
   ]
  },
  {
   "cell_type": "markdown",
   "id": "5af3a8ec",
   "metadata": {},
   "source": [
    "# 1. Decision Tree"
   ]
  },
  {
   "cell_type": "code",
   "execution_count": 4,
   "id": "d6ee02f0",
   "metadata": {},
   "outputs": [],
   "source": [
    "# import tree model\n",
    "from sklearn.tree import DecisionTreeClassifier\n",
    "\n",
    "# create the model\n",
    "dt_model = DecisionTreeClassifier()\n",
    "\n",
    "# fit the data\n",
    "dt_model.fit(X_train, y_train)\n",
    "\n",
    "# make prediction\n",
    "y_pred = dt_model.predict(X_test)"
   ]
  },
  {
   "cell_type": "code",
   "execution_count": 6,
   "id": "1d52b026",
   "metadata": {},
   "outputs": [
    {
     "name": "stdout",
     "output_type": "stream",
     "text": [
      "Outcome values : tp:14, fn:49, fn:72, tn:1398\n",
      "\n",
      "Recall score for \"No Stroke\":  0.95\n",
      "Recall score for \"Stroke\":  0.22\n",
      "\n",
      "Classification report : \n",
      "               precision    recall  f1-score   support\n",
      "\n",
      "   No Stroke       0.97      0.95      0.96      1470\n",
      "      Stroke       0.16      0.22      0.19        63\n",
      "\n",
      "    accuracy                           0.92      1533\n",
      "   macro avg       0.56      0.59      0.57      1533\n",
      "weighted avg       0.93      0.92      0.93      1533\n",
      "\n",
      "Balanced accuracy: 0.59\n"
     ]
    }
   ],
   "source": [
    "# confusion matrix\n",
    "from sklearn.metrics import confusion_matrix\n",
    "from sklearn.metrics import classification_report\n",
    "\n",
    "# outcome values order in sklearn\n",
    "tp, fn, fp, tn = confusion_matrix(y_test,y_pred,labels=[1,0]).reshape(-1)\n",
    "print('Outcome values : tp:{}, fn:{}, fn:{}, tn:{}'.format(tp, fn, fp, tn))\n",
    "\n",
    "# model evaluation metrics - recall\n",
    "print('\\nRecall score for \"No Stroke\": ' , round(metrics.recall_score(y_test,y_pred, pos_label = 0),2))\n",
    "print('Recall score for \"Stroke\": ' , round(metrics.recall_score(y_test,y_pred, pos_label = 1), 2))\n",
    "\n",
    "# classification report for precision, recall f1-score and accuracy\n",
    "matrix = classification_report(y_test, y_pred, target_names=['No Stroke', 'Stroke'])\n",
    "print('\\nClassification report : \\n',matrix)\n",
    "\n",
    "# model evaluation metrics - accuracy\n",
    "print(\"Balanced accuracy:\", round(metrics.balanced_accuracy_score(y_test,y_pred),2))"
   ]
  },
  {
   "cell_type": "markdown",
   "id": "b84a766e",
   "metadata": {},
   "source": [
    "# 2. Logistic Regression"
   ]
  },
  {
   "cell_type": "code",
   "execution_count": null,
   "id": "d1a0036c",
   "metadata": {},
   "outputs": [],
   "source": [
    "#import model\n",
    "from sklearn.linear_model import LogisticRegression\n",
    "\n",
    "# create the model\n",
    "lr_model = LogisticRegression()\n",
    "\n",
    "# fit the model\n",
    "lr_model.fit(X_train, y_train)\n",
    "\n",
    "# make prediction\n",
    "y_pred = lr_model.predict()"
   ]
  },
  {
   "cell_type": "markdown",
   "id": "bd532cdf",
   "metadata": {},
   "source": [
    "# 3. Random Forest"
   ]
  },
  {
   "cell_type": "code",
   "execution_count": null,
   "id": "20ec4864",
   "metadata": {},
   "outputs": [],
   "source": []
  }
 ],
 "metadata": {
  "kernelspec": {
   "display_name": "Python 3 (ipykernel)",
   "language": "python",
   "name": "python3"
  },
  "language_info": {
   "codemirror_mode": {
    "name": "ipython",
    "version": 3
   },
   "file_extension": ".py",
   "mimetype": "text/x-python",
   "name": "python",
   "nbconvert_exporter": "python",
   "pygments_lexer": "ipython3",
   "version": "3.9.5"
  }
 },
 "nbformat": 4,
 "nbformat_minor": 5
}
