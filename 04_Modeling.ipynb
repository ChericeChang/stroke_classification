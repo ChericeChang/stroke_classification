{
 "cells": [
  {
   "cell_type": "markdown",
   "id": "9f0519af",
   "metadata": {},
   "source": [
    "### Stoke Prediction Dataset \n",
    "# Modeling\n",
    "\n",
    "Data source: https://www.kaggle.com/fedesoriano/stroke-prediction-dataset <br>\n",
    "Data updated date: 2021-01-26\n",
    "\n",
    "#### Supervised Learning: Classification model to predict a binary outcome\n",
    "Outcome:\n",
    "- 0: no stroke\n",
    "- 1: stroke\n",
    "\n",
    "Here are the different types of learning that we will implore for out prediction.\n",
    "- Decision Tree Classifer\n",
    "- Logistic Regression\n",
    "- Random Forest\n",
    "- AdaBoost Classifer\n",
    "- XGBoost Classifer\n",
    "- SVM Classifer\n",
    "\n",
    "Model Evaluation:\n",
    "- Confusion Matrix: Maximize True Positive rate, minimize False Nagative rate.\n",
    "- Recall for stroke\n",
    "![title](img/ConfusionMatrix.ppm)\n",
    "- Balanced accuracy\n",
    "![title](img/Balanced-accuracy-formula.png)"
   ]
  },
  {
   "cell_type": "markdown",
   "id": "0a3668a5",
   "metadata": {},
   "source": [
    "# 0. Sourcing, Loading, and Evaluation Model"
   ]
  },
  {
   "cell_type": "code",
   "execution_count": 1,
   "id": "aa96cd34",
   "metadata": {},
   "outputs": [
    {
     "data": {
      "text/html": [
       "<style>.container { width:100% !important; }</style>"
      ],
      "text/plain": [
       "<IPython.core.display.HTML object>"
      ]
     },
     "metadata": {},
     "output_type": "display_data"
    }
   ],
   "source": [
    "# import packagas\n",
    "\n",
    "import pandas as pd\n",
    "import numpy as np\n",
    "from sklearn.metrics import recall_score, balanced_accuracy_score, confusion_matrix, classification_report\n",
    "\n",
    "# make notebook full width for better viewing\n",
    "\n",
    "from IPython.core.display import display, HTML\n",
    "display(HTML(\"<style>.container { width:100% !important; }</style>\"))"
   ]
  },
  {
   "cell_type": "code",
   "execution_count": 2,
   "id": "cd8a4401",
   "metadata": {},
   "outputs": [],
   "source": [
    "# load data\n",
    "\n",
    "X_train = pd.read_csv('data/X_train.csv', index_col=0)\n",
    "X_test = pd.read_csv('data/X_test.csv', index_col=0)\n",
    "\n",
    "y_train = pd.read_csv('data/y_train.csv', index_col=0)\n",
    "y_test = pd.read_csv('data/y_test.csv', index_col=0)"
   ]
  },
  {
   "cell_type": "code",
   "execution_count": 3,
   "id": "735405d8",
   "metadata": {},
   "outputs": [],
   "source": [
    "# create lists to store all results\n",
    "\n",
    "result_model_name = []\n",
    "result_tn = []\n",
    "result_fp = []\n",
    "result_fn = []\n",
    "result_tn = []\n",
    "result_recall_stroke = []\n",
    "result_recall_nostroke = []\n",
    "result_balanced_accuracy = []"
   ]
  },
  {
   "cell_type": "code",
   "execution_count": 4,
   "id": "38953e0e",
   "metadata": {},
   "outputs": [],
   "source": [
    "# create an evaluation model that print its performance\n",
    "\n",
    "def evaluation(y_pred, y_test, list_name):\n",
    "    # confusion matrix\n",
    "    tn, fp, fn, tp = confusion_matrix(y_test,y_pred,labels=[1,0]).reshape(-1)\n",
    "    print('Outcome values : tp:{}, fn:{}, fn:{}, tn:{}'.format(tp, fn, fp, tn))\n",
    "\n",
    "    # model evaluation metrics - recall\n",
    "    print('\\nRecall score for \"No Stroke\": ' , round(recall_score(y_test,y_pred, pos_label = 0),2))\n",
    "    print('Recall score for \"Stroke\": ' , round(recall_score(y_test,y_pred, pos_label = 1), 2))\n",
    "\n",
    "    # classification report for precision, recall f1-score and accuracy\n",
    "    matrix = classification_report(y_test, y_pred, target_names=['No Stroke', 'Stroke'])\n",
    "    print('\\nClassification report : \\n',matrix)\n",
    "\n",
    "    # model evaluation metrics - accuracy\n",
    "    print(\"Balanced accuracy:\", round(balanced_accuracy_score(y_test,y_pred),2))\n",
    "    \n",
    "    list_name.extend([tn, fp, fn, tn, round(recall_score(y_test,y_pred, pos_label = 1), 2), round(recall_score(y_test,y_pred, pos_label = 0),2), round(balanced_accuracy_score(y_test,y_pred),2)])"
   ]
  },
  {
   "cell_type": "code",
   "execution_count": 5,
   "id": "e28b9bd5",
   "metadata": {},
   "outputs": [],
   "source": [
    "model_list = []"
   ]
  },
  {
   "cell_type": "markdown",
   "id": "5af3a8ec",
   "metadata": {},
   "source": [
    "# 1. Decision Tree"
   ]
  },
  {
   "cell_type": "code",
   "execution_count": 6,
   "id": "d6ee02f0",
   "metadata": {},
   "outputs": [],
   "source": [
    "# import tree model\n",
    "from sklearn.tree import DecisionTreeClassifier\n",
    "\n",
    "# create the model\n",
    "dt_model = DecisionTreeClassifier()\n",
    "\n",
    "# fit the data\n",
    "dt_model.fit(X_train, y_train)\n",
    "\n",
    "# make prediction\n",
    "y_pred = dt_model.predict(X_test)"
   ]
  },
  {
   "cell_type": "code",
   "execution_count": 7,
   "id": "1d52b026",
   "metadata": {},
   "outputs": [
    {
     "name": "stdout",
     "output_type": "stream",
     "text": [
      "Outcome values : tp:1339, fn:110, fn:71, tn:13\n",
      "\n",
      "Recall score for \"No Stroke\":  0.92\n",
      "Recall score for \"Stroke\":  0.15\n",
      "\n",
      "Classification report : \n",
      "               precision    recall  f1-score   support\n",
      "\n",
      "   No Stroke       0.95      0.92      0.94      1449\n",
      "      Stroke       0.11      0.15      0.13        84\n",
      "\n",
      "    accuracy                           0.88      1533\n",
      "   macro avg       0.53      0.54      0.53      1533\n",
      "weighted avg       0.90      0.88      0.89      1533\n",
      "\n",
      "Balanced accuracy: 0.54\n"
     ]
    }
   ],
   "source": [
    "# print model performance\n",
    "decision_tree = ['Decision Tree']\n",
    "evaluation(y_pred, y_test, decision_tree)\n",
    "model_list.append(decision_tree)"
   ]
  },
  {
   "cell_type": "markdown",
   "id": "b84a766e",
   "metadata": {},
   "source": [
    "# 2. Logistic Regression"
   ]
  },
  {
   "cell_type": "code",
   "execution_count": 8,
   "id": "d1a0036c",
   "metadata": {},
   "outputs": [
    {
     "name": "stderr",
     "output_type": "stream",
     "text": [
      "C:\\ProgramData\\Miniconda3\\lib\\site-packages\\sklearn\\utils\\validation.py:985: DataConversionWarning: A column-vector y was passed when a 1d array was expected. Please change the shape of y to (n_samples, ), for example using ravel().\n",
      "  y = column_or_1d(y, warn=True)\n"
     ]
    }
   ],
   "source": [
    "#import model\n",
    "from sklearn.linear_model import LogisticRegression\n",
    "\n",
    "# create the model\n",
    "lr_model = LogisticRegression()\n",
    "\n",
    "# fit the model\n",
    "lr_model.fit(X_train, y_train)\n",
    "\n",
    "# make prediction\n",
    "y_pred = lr_model.predict(X_test)"
   ]
  },
  {
   "cell_type": "code",
   "execution_count": 9,
   "id": "d5365fce",
   "metadata": {},
   "outputs": [
    {
     "name": "stdout",
     "output_type": "stream",
     "text": [
      "Outcome values : tp:1318, fn:131, fn:54, tn:30\n",
      "\n",
      "Recall score for \"No Stroke\":  0.91\n",
      "Recall score for \"Stroke\":  0.36\n",
      "\n",
      "Classification report : \n",
      "               precision    recall  f1-score   support\n",
      "\n",
      "   No Stroke       0.96      0.91      0.93      1449\n",
      "      Stroke       0.19      0.36      0.24        84\n",
      "\n",
      "    accuracy                           0.88      1533\n",
      "   macro avg       0.57      0.63      0.59      1533\n",
      "weighted avg       0.92      0.88      0.90      1533\n",
      "\n",
      "Balanced accuracy: 0.63\n"
     ]
    }
   ],
   "source": [
    "# print model performance\n",
    "logistic_regression = ['Logistic Regression']\n",
    "evaluation(y_pred, y_test, logistic_regression)\n",
    "model_list.append(logistic_regression)"
   ]
  },
  {
   "cell_type": "markdown",
   "id": "c4a9c55c",
   "metadata": {},
   "source": [
    "### Feature importance in Logistic Regression"
   ]
  },
  {
   "cell_type": "code",
   "execution_count": 10,
   "id": "d73a7688",
   "metadata": {},
   "outputs": [
    {
     "name": "stdout",
     "output_type": "stream",
     "text": [
      "[2.183203330688211, 0.332529398418136, 0.2645263250878176, 0.6192779194359219, 0.9786485040822869, 0.7230226434453599, 0.7210062363794068, 0.17666757692135546, 4.957176155947972, 0.8377396537026984, 3.7926685961006097, 4.728404133535544, 0.9728299893760243, 2.079875195003335, 1.7838061524117446, 2.4047085894822864]\n"
     ]
    }
   ],
   "source": [
    "coef = lr_model.coef_[0]\n",
    "coef = [abs(number) for number in coef]\n",
    "print(coef)\n",
    "\n",
    "cols = list(X_train.columns)"
   ]
  },
  {
   "cell_type": "code",
   "execution_count": 11,
   "id": "aaf68257",
   "metadata": {},
   "outputs": [
    {
     "name": "stdout",
     "output_type": "stream",
     "text": [
      "work_type_govt_job\n",
      "work_type_self-employed\n",
      "work_type_private\n",
      "smoking_status_unknown\n",
      "age\n",
      "smoking_status_never smoked\n",
      "smoking_status_smokes\n",
      "heart_disease\n",
      "residence_type_urban\n",
      "work_type_never_worked\n",
      "ever_married\n",
      "gender_male\n",
      "hypertension\n",
      "avg_glucose_level\n",
      "bmi\n",
      "gender_other\n"
     ]
    }
   ],
   "source": [
    "sorted_index = sorted(range(len(coef)), key = lambda k: coef[k], reverse = True)\n",
    "for idx in sorted_index:\n",
    "    print(cols[idx])"
   ]
  },
  {
   "cell_type": "markdown",
   "id": "bd532cdf",
   "metadata": {},
   "source": [
    "# 3. Random Forest"
   ]
  },
  {
   "cell_type": "code",
   "execution_count": 12,
   "id": "20ec4864",
   "metadata": {},
   "outputs": [
    {
     "name": "stderr",
     "output_type": "stream",
     "text": [
      "C:\\ProgramData\\Miniconda3\\lib\\site-packages\\ipykernel_launcher.py:8: DataConversionWarning: A column-vector y was passed when a 1d array was expected. Please change the shape of y to (n_samples,), for example using ravel().\n",
      "  \n"
     ]
    }
   ],
   "source": [
    "# import model\n",
    "from sklearn.ensemble import RandomForestClassifier\n",
    "\n",
    "# create the model\n",
    "rf_model = RandomForestClassifier()\n",
    "\n",
    "# fit the model\n",
    "rf_model.fit(X_train, y_train)\n",
    "\n",
    "# make prediction\n",
    "y_pred = rf_model.predict(X_test)"
   ]
  },
  {
   "cell_type": "code",
   "execution_count": 13,
   "id": "b01d7a0a",
   "metadata": {},
   "outputs": [
    {
     "name": "stdout",
     "output_type": "stream",
     "text": [
      "Outcome values : tp:1402, fn:47, fn:75, tn:9\n",
      "\n",
      "Recall score for \"No Stroke\":  0.97\n",
      "Recall score for \"Stroke\":  0.11\n",
      "\n",
      "Classification report : \n",
      "               precision    recall  f1-score   support\n",
      "\n",
      "   No Stroke       0.95      0.97      0.96      1449\n",
      "      Stroke       0.16      0.11      0.13        84\n",
      "\n",
      "    accuracy                           0.92      1533\n",
      "   macro avg       0.55      0.54      0.54      1533\n",
      "weighted avg       0.91      0.92      0.91      1533\n",
      "\n",
      "Balanced accuracy: 0.54\n"
     ]
    }
   ],
   "source": [
    "# print model performance\n",
    "random_forest = ['Random Forest']\n",
    "evaluation(y_pred, y_test, random_forest)\n",
    "model_list.append(random_forest)"
   ]
  },
  {
   "cell_type": "markdown",
   "id": "ce6ecc2e",
   "metadata": {},
   "source": [
    "# 4. Adaboost Classification"
   ]
  },
  {
   "cell_type": "code",
   "execution_count": 14,
   "id": "0135d392",
   "metadata": {},
   "outputs": [
    {
     "name": "stderr",
     "output_type": "stream",
     "text": [
      "C:\\ProgramData\\Miniconda3\\lib\\site-packages\\sklearn\\utils\\validation.py:985: DataConversionWarning: A column-vector y was passed when a 1d array was expected. Please change the shape of y to (n_samples, ), for example using ravel().\n",
      "  y = column_or_1d(y, warn=True)\n"
     ]
    }
   ],
   "source": [
    "# import the model\n",
    "from sklearn.ensemble import AdaBoostClassifier\n",
    "\n",
    "# create the model\n",
    "ab_model = AdaBoostClassifier(base_estimator=DecisionTreeClassifier(), n_estimators=100, \n",
    "                            learning_rate=0.5, random_state=100)\n",
    "\n",
    "# fit the model\n",
    "ab_model.fit(X_train, y_train)\n",
    "\n",
    "# make prediction\n",
    "y_pred = ab_model.predict(X_test)"
   ]
  },
  {
   "cell_type": "code",
   "execution_count": 15,
   "id": "737c6aad",
   "metadata": {},
   "outputs": [
    {
     "name": "stdout",
     "output_type": "stream",
     "text": [
      "Outcome values : tp:1341, fn:108, fn:67, tn:17\n",
      "\n",
      "Recall score for \"No Stroke\":  0.93\n",
      "Recall score for \"Stroke\":  0.2\n",
      "\n",
      "Classification report : \n",
      "               precision    recall  f1-score   support\n",
      "\n",
      "   No Stroke       0.95      0.93      0.94      1449\n",
      "      Stroke       0.14      0.20      0.16        84\n",
      "\n",
      "    accuracy                           0.89      1533\n",
      "   macro avg       0.54      0.56      0.55      1533\n",
      "weighted avg       0.91      0.89      0.90      1533\n",
      "\n",
      "Balanced accuracy: 0.56\n"
     ]
    }
   ],
   "source": [
    "# print model performance\n",
    "adaboost = ['Adaboost Classification']\n",
    "evaluation(y_pred, y_test, adaboost)\n",
    "model_list.append(adaboost)"
   ]
  },
  {
   "cell_type": "markdown",
   "id": "052b11b9",
   "metadata": {},
   "source": [
    "# 5. XGboost"
   ]
  },
  {
   "cell_type": "code",
   "execution_count": 16,
   "id": "821d4024",
   "metadata": {},
   "outputs": [
    {
     "name": "stderr",
     "output_type": "stream",
     "text": [
      "C:\\ProgramData\\Miniconda3\\lib\\site-packages\\sklearn\\ensemble\\_gb.py:494: DataConversionWarning: A column-vector y was passed when a 1d array was expected. Please change the shape of y to (n_samples, ), for example using ravel().\n",
      "  y = column_or_1d(y, warn=True)\n"
     ]
    }
   ],
   "source": [
    "from sklearn.ensemble import GradientBoostingClassifier\n",
    "\n",
    "xg_model = GradientBoostingClassifier()\n",
    "xg_model.fit(X_train, y_train)\n",
    "\n",
    "y_pred = xg_model.predict(X_test)"
   ]
  },
  {
   "cell_type": "code",
   "execution_count": 17,
   "id": "2f37f97e",
   "metadata": {},
   "outputs": [
    {
     "name": "stdout",
     "output_type": "stream",
     "text": [
      "Outcome values : tp:1352, fn:97, fn:64, tn:20\n",
      "\n",
      "Recall score for \"No Stroke\":  0.93\n",
      "Recall score for \"Stroke\":  0.24\n",
      "\n",
      "Classification report : \n",
      "               precision    recall  f1-score   support\n",
      "\n",
      "   No Stroke       0.95      0.93      0.94      1449\n",
      "      Stroke       0.17      0.24      0.20        84\n",
      "\n",
      "    accuracy                           0.89      1533\n",
      "   macro avg       0.56      0.59      0.57      1533\n",
      "weighted avg       0.91      0.89      0.90      1533\n",
      "\n",
      "Balanced accuracy: 0.59\n"
     ]
    }
   ],
   "source": [
    "# print model performance\n",
    "xgboost = ['XGboost']\n",
    "evaluation(y_pred, y_test, xgboost)\n",
    "model_list.append(xgboost)"
   ]
  },
  {
   "cell_type": "markdown",
   "id": "f6db5243",
   "metadata": {},
   "source": [
    "# 6. SVM"
   ]
  },
  {
   "cell_type": "code",
   "execution_count": 18,
   "id": "2eef10be",
   "metadata": {},
   "outputs": [
    {
     "name": "stderr",
     "output_type": "stream",
     "text": [
      "C:\\ProgramData\\Miniconda3\\lib\\site-packages\\sklearn\\utils\\validation.py:985: DataConversionWarning: A column-vector y was passed when a 1d array was expected. Please change the shape of y to (n_samples, ), for example using ravel().\n",
      "  y = column_or_1d(y, warn=True)\n"
     ]
    }
   ],
   "source": [
    "# import model\n",
    "from sklearn.svm import SVC\n",
    "\n",
    "# create the model\n",
    "sv_model = SVC()\n",
    "\n",
    "# fit the model\n",
    "sv_model.fit(X_train, y_train)\n",
    "\n",
    "# make prediction on test dataset\n",
    "y_pred = sv_model.predict(X_test)"
   ]
  },
  {
   "cell_type": "code",
   "execution_count": 19,
   "id": "a3fb5b00",
   "metadata": {},
   "outputs": [
    {
     "name": "stdout",
     "output_type": "stream",
     "text": [
      "Outcome values : tp:1341, fn:108, fn:64, tn:20\n",
      "\n",
      "Recall score for \"No Stroke\":  0.93\n",
      "Recall score for \"Stroke\":  0.24\n",
      "\n",
      "Classification report : \n",
      "               precision    recall  f1-score   support\n",
      "\n",
      "   No Stroke       0.95      0.93      0.94      1449\n",
      "      Stroke       0.16      0.24      0.19        84\n",
      "\n",
      "    accuracy                           0.89      1533\n",
      "   macro avg       0.56      0.58      0.56      1533\n",
      "weighted avg       0.91      0.89      0.90      1533\n",
      "\n",
      "Balanced accuracy: 0.58\n"
     ]
    }
   ],
   "source": [
    "# print model performance\n",
    "svm = ['SVM']\n",
    "evaluation(y_pred, y_test, svm)\n",
    "model_list.append(svm)"
   ]
  },
  {
   "cell_type": "markdown",
   "id": "503fc05d",
   "metadata": {},
   "source": [
    "# Evaluation"
   ]
  },
  {
   "cell_type": "code",
   "execution_count": 20,
   "id": "3cc42764",
   "metadata": {},
   "outputs": [
    {
     "data": {
      "text/plain": [
       "[['Decision Tree', 13, 71, 110, 13, 0.15, 0.92, 0.54],\n",
       " ['Logistic Regression', 30, 54, 131, 30, 0.36, 0.91, 0.63],\n",
       " ['Random Forest', 9, 75, 47, 9, 0.11, 0.97, 0.54],\n",
       " ['Adaboost Classification', 17, 67, 108, 17, 0.2, 0.93, 0.56],\n",
       " ['XGboost', 20, 64, 97, 20, 0.24, 0.93, 0.59],\n",
       " ['SVM', 20, 64, 108, 20, 0.24, 0.93, 0.58]]"
      ]
     },
     "execution_count": 20,
     "metadata": {},
     "output_type": "execute_result"
    }
   ],
   "source": [
    "model_list"
   ]
  },
  {
   "cell_type": "code",
   "execution_count": 34,
   "id": "3c5d2f84",
   "metadata": {},
   "outputs": [
    {
     "data": {
      "text/html": [
       "<div>\n",
       "<style scoped>\n",
       "    .dataframe tbody tr th:only-of-type {\n",
       "        vertical-align: middle;\n",
       "    }\n",
       "\n",
       "    .dataframe tbody tr th {\n",
       "        vertical-align: top;\n",
       "    }\n",
       "\n",
       "    .dataframe thead th {\n",
       "        text-align: right;\n",
       "    }\n",
       "</style>\n",
       "<table border=\"1\" class=\"dataframe\">\n",
       "  <thead>\n",
       "    <tr style=\"text-align: right;\">\n",
       "      <th></th>\n",
       "      <th>tn</th>\n",
       "      <th>fp</th>\n",
       "      <th>fn</th>\n",
       "      <th>tn</th>\n",
       "      <th>recall_stroke</th>\n",
       "      <th>recall_nostroke</th>\n",
       "      <th>balanced_accuracy_score</th>\n",
       "    </tr>\n",
       "    <tr>\n",
       "      <th>model</th>\n",
       "      <th></th>\n",
       "      <th></th>\n",
       "      <th></th>\n",
       "      <th></th>\n",
       "      <th></th>\n",
       "      <th></th>\n",
       "      <th></th>\n",
       "    </tr>\n",
       "  </thead>\n",
       "  <tbody>\n",
       "    <tr>\n",
       "      <th>Decision Tree</th>\n",
       "      <td>13</td>\n",
       "      <td>71</td>\n",
       "      <td>110</td>\n",
       "      <td>13</td>\n",
       "      <td>0.15</td>\n",
       "      <td>0.92</td>\n",
       "      <td>0.54</td>\n",
       "    </tr>\n",
       "    <tr>\n",
       "      <th>Logistic Regression</th>\n",
       "      <td>30</td>\n",
       "      <td>54</td>\n",
       "      <td>131</td>\n",
       "      <td>30</td>\n",
       "      <td>0.36</td>\n",
       "      <td>0.91</td>\n",
       "      <td>0.63</td>\n",
       "    </tr>\n",
       "    <tr>\n",
       "      <th>Random Forest</th>\n",
       "      <td>9</td>\n",
       "      <td>75</td>\n",
       "      <td>47</td>\n",
       "      <td>9</td>\n",
       "      <td>0.11</td>\n",
       "      <td>0.97</td>\n",
       "      <td>0.54</td>\n",
       "    </tr>\n",
       "    <tr>\n",
       "      <th>Adaboost Classification</th>\n",
       "      <td>17</td>\n",
       "      <td>67</td>\n",
       "      <td>108</td>\n",
       "      <td>17</td>\n",
       "      <td>0.20</td>\n",
       "      <td>0.93</td>\n",
       "      <td>0.56</td>\n",
       "    </tr>\n",
       "    <tr>\n",
       "      <th>XGboost</th>\n",
       "      <td>20</td>\n",
       "      <td>64</td>\n",
       "      <td>97</td>\n",
       "      <td>20</td>\n",
       "      <td>0.24</td>\n",
       "      <td>0.93</td>\n",
       "      <td>0.59</td>\n",
       "    </tr>\n",
       "    <tr>\n",
       "      <th>SVM</th>\n",
       "      <td>20</td>\n",
       "      <td>64</td>\n",
       "      <td>108</td>\n",
       "      <td>20</td>\n",
       "      <td>0.24</td>\n",
       "      <td>0.93</td>\n",
       "      <td>0.58</td>\n",
       "    </tr>\n",
       "  </tbody>\n",
       "</table>\n",
       "</div>"
      ],
      "text/plain": [
       "                         tn  fp   fn  tn  recall_stroke  recall_nostroke  \\\n",
       "model                                                                      \n",
       "Decision Tree            13  71  110  13           0.15             0.92   \n",
       "Logistic Regression      30  54  131  30           0.36             0.91   \n",
       "Random Forest             9  75   47   9           0.11             0.97   \n",
       "Adaboost Classification  17  67  108  17           0.20             0.93   \n",
       "XGboost                  20  64   97  20           0.24             0.93   \n",
       "SVM                      20  64  108  20           0.24             0.93   \n",
       "\n",
       "                         balanced_accuracy_score  \n",
       "model                                             \n",
       "Decision Tree                               0.54  \n",
       "Logistic Regression                         0.63  \n",
       "Random Forest                               0.54  \n",
       "Adaboost Classification                     0.56  \n",
       "XGboost                                     0.59  \n",
       "SVM                                         0.58  "
      ]
     },
     "execution_count": 34,
     "metadata": {},
     "output_type": "execute_result"
    }
   ],
   "source": [
    "column_names = ['model', 'tn', 'fp', 'fn', 'tn', 'recall_stroke', 'recall_nostroke', 'balanced_accuracy_score']\n",
    "\n",
    "# create a table\n",
    "model_performance = pd.DataFrame(model_list)\n",
    "\n",
    "# rename columns\n",
    "model_performance.columns = column_names\n",
    "\n",
    "# set index\n",
    "model_performance = model_performance.set_index('model')\n",
    "\n",
    "model_performance"
   ]
  },
  {
   "cell_type": "code",
   "execution_count": 35,
   "id": "aeeb721d",
   "metadata": {},
   "outputs": [
    {
     "data": {
      "text/html": [
       "<div>\n",
       "<style scoped>\n",
       "    .dataframe tbody tr th:only-of-type {\n",
       "        vertical-align: middle;\n",
       "    }\n",
       "\n",
       "    .dataframe tbody tr th {\n",
       "        vertical-align: top;\n",
       "    }\n",
       "\n",
       "    .dataframe thead th {\n",
       "        text-align: right;\n",
       "    }\n",
       "</style>\n",
       "<table border=\"1\" class=\"dataframe\">\n",
       "  <thead>\n",
       "    <tr style=\"text-align: right;\">\n",
       "      <th></th>\n",
       "      <th>tn</th>\n",
       "      <th>fp</th>\n",
       "      <th>fn</th>\n",
       "      <th>tn</th>\n",
       "      <th>recall_stroke</th>\n",
       "      <th>recall_nostroke</th>\n",
       "      <th>balanced_accuracy_score</th>\n",
       "    </tr>\n",
       "    <tr>\n",
       "      <th>model</th>\n",
       "      <th></th>\n",
       "      <th></th>\n",
       "      <th></th>\n",
       "      <th></th>\n",
       "      <th></th>\n",
       "      <th></th>\n",
       "      <th></th>\n",
       "    </tr>\n",
       "  </thead>\n",
       "  <tbody>\n",
       "    <tr>\n",
       "      <th>Logistic Regression</th>\n",
       "      <td>30</td>\n",
       "      <td>54</td>\n",
       "      <td>131</td>\n",
       "      <td>30</td>\n",
       "      <td>0.36</td>\n",
       "      <td>0.91</td>\n",
       "      <td>0.63</td>\n",
       "    </tr>\n",
       "  </tbody>\n",
       "</table>\n",
       "</div>"
      ],
      "text/plain": [
       "                     tn  fp   fn  tn  recall_stroke  recall_nostroke  \\\n",
       "model                                                                  \n",
       "Logistic Regression  30  54  131  30           0.36             0.91   \n",
       "\n",
       "                     balanced_accuracy_score  \n",
       "model                                         \n",
       "Logistic Regression                     0.63  "
      ]
     },
     "execution_count": 35,
     "metadata": {},
     "output_type": "execute_result"
    }
   ],
   "source": [
    "# Highest Recall Score\n",
    "model_performance.sort_values('recall_stroke', ascending=False).head(1)"
   ]
  },
  {
   "cell_type": "code",
   "execution_count": 36,
   "id": "702d19e4",
   "metadata": {},
   "outputs": [
    {
     "data": {
      "text/html": [
       "<div>\n",
       "<style scoped>\n",
       "    .dataframe tbody tr th:only-of-type {\n",
       "        vertical-align: middle;\n",
       "    }\n",
       "\n",
       "    .dataframe tbody tr th {\n",
       "        vertical-align: top;\n",
       "    }\n",
       "\n",
       "    .dataframe thead th {\n",
       "        text-align: right;\n",
       "    }\n",
       "</style>\n",
       "<table border=\"1\" class=\"dataframe\">\n",
       "  <thead>\n",
       "    <tr style=\"text-align: right;\">\n",
       "      <th></th>\n",
       "      <th>tn</th>\n",
       "      <th>fp</th>\n",
       "      <th>fn</th>\n",
       "      <th>tn</th>\n",
       "      <th>recall_stroke</th>\n",
       "      <th>recall_nostroke</th>\n",
       "      <th>balanced_accuracy_score</th>\n",
       "    </tr>\n",
       "    <tr>\n",
       "      <th>model</th>\n",
       "      <th></th>\n",
       "      <th></th>\n",
       "      <th></th>\n",
       "      <th></th>\n",
       "      <th></th>\n",
       "      <th></th>\n",
       "      <th></th>\n",
       "    </tr>\n",
       "  </thead>\n",
       "  <tbody>\n",
       "    <tr>\n",
       "      <th>Logistic Regression</th>\n",
       "      <td>30</td>\n",
       "      <td>54</td>\n",
       "      <td>131</td>\n",
       "      <td>30</td>\n",
       "      <td>0.36</td>\n",
       "      <td>0.91</td>\n",
       "      <td>0.63</td>\n",
       "    </tr>\n",
       "  </tbody>\n",
       "</table>\n",
       "</div>"
      ],
      "text/plain": [
       "                     tn  fp   fn  tn  recall_stroke  recall_nostroke  \\\n",
       "model                                                                  \n",
       "Logistic Regression  30  54  131  30           0.36             0.91   \n",
       "\n",
       "                     balanced_accuracy_score  \n",
       "model                                         \n",
       "Logistic Regression                     0.63  "
      ]
     },
     "execution_count": 36,
     "metadata": {},
     "output_type": "execute_result"
    }
   ],
   "source": [
    "# Highest Balanced Accuracy Score\n",
    "model_performance.sort_values('balanced_accuracy_score', ascending=False).head(1)"
   ]
  },
  {
   "cell_type": "code",
   "execution_count": 37,
   "id": "825a45cf",
   "metadata": {},
   "outputs": [
    {
     "data": {
      "text/plain": [
       "(1533, 1)"
      ]
     },
     "execution_count": 37,
     "metadata": {},
     "output_type": "execute_result"
    }
   ],
   "source": [
    "y_test.shape"
   ]
  },
  {
   "cell_type": "code",
   "execution_count": 39,
   "id": "abe8c399",
   "metadata": {},
   "outputs": [
    {
     "data": {
      "text/plain": [
       "stroke\n",
       "0         1449\n",
       "1           84\n",
       "dtype: int64"
      ]
     },
     "execution_count": 39,
     "metadata": {},
     "output_type": "execute_result"
    }
   ],
   "source": [
    "y_test.value_counts()"
   ]
  },
  {
   "cell_type": "markdown",
   "id": "dfcd92bc",
   "metadata": {},
   "source": [
    "# Conclusion:\n",
    "\n",
    "All performed okay on the test data, most likely due to original dataset is imbalanced.\n",
    "\n",
    "If we make a rough guess that half of the people will get stroke, we will get the following confusion matrix:<br>\n",
    "tp: 42<br>\n",
    "fp: 725<br>\n",
    "tn: 724<br>\n",
    "fn: 42<br>\n",
    "\n",
    "making the recall score for stroke 0.5, balanced accuracy score of 0.5.\n",
    "\n",
    "Logistic Regrssion shows the strongest performance without any other optimization currently.\n",
    "It has recall score for stroke: 0.36; balanced accuracy score of 0.63.\n",
    "\n",
    "Balanced accuracy score of logistic regression performs better than benchmark (50% guess model). but recall score for stroke is weaker than benchmark.\n",
    "\n",
    "### Optimization suggestion.\n",
    "\n",
    "1. Optimize SMOTE for imbalanced data (oversample the stroke data) and undersample the non-stroke data.<br>\n",
    "https://machinelearningmastery.com/smote-oversampling-for-imbalanced-classification/\n",
    "\n",
    "2. Use Cross Validation, Grid Search, and Random Search to tune the hyperparameter.\n",
    "\n",
    "3. Get more features and data, especially stroke dataset."
   ]
  }
 ],
 "metadata": {
  "kernelspec": {
   "display_name": "Python 3 (ipykernel)",
   "language": "python",
   "name": "python3"
  },
  "language_info": {
   "codemirror_mode": {
    "name": "ipython",
    "version": 3
   },
   "file_extension": ".py",
   "mimetype": "text/x-python",
   "name": "python",
   "nbconvert_exporter": "python",
   "pygments_lexer": "ipython3",
   "version": "3.7.10"
  }
 },
 "nbformat": 4,
 "nbformat_minor": 5
}
